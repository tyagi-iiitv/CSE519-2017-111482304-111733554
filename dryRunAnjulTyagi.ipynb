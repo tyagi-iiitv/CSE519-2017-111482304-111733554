{
 "cells": [
  {
   "cell_type": "code",
   "execution_count": 1,
   "metadata": {},
   "outputs": [],
   "source": [
    "import pandas as pd\n",
    "import numpy as np\n",
    "from matplotlib import pyplot as plt\n",
    "import seaborn as sns\n",
    "from skstats.feature_selection import RFE, f_regression\n",
    "from sklearn.linear_model import (LinearRegression, Ridge, Lasso, RandomizedLasso)\n",
    "from sklearn.preprocessing import MinMaxScaler\n",
    "from sklearn.ensemble import RandomForestRegressor\n",
    "from scipy import stats"
   ]
  },
  {
   "cell_type": "markdown",
   "metadata": {},
   "source": [
    "### Reading the data files."
   ]
  },
  {
   "cell_type": "code",
   "execution_count": 2,
   "metadata": {},
   "outputs": [],
   "source": [
    "train_2016 = pd.read_csv('data/train_2016_v2.csv')"
   ]
  },
  {
   "cell_type": "code",
   "execution_count": 3,
   "metadata": {
    "collapsed": true
   },
   "outputs": [
    {
     "name": "stderr",
     "output_type": "stream",
     "text": [
      "/home/tyagi/CSE519-2017-111482304-111733554/env/lib/python3.4/site-packages/IPython/core/interactiveshell.py:2728: DtypeWarning: Columns (22,32,34,49,55) have mixed types. Specify dtype option on import or set low_memory=False.\n",
      "  interactivity=interactivity, compiler=compiler, result=result)\n"
     ]
    }
   ],
   "source": [
    "properties_2016 = pd.read_csv('data/properties_2016.csv')"
   ]
  },
  {
   "cell_type": "code",
   "execution_count": 4,
   "metadata": {},
   "outputs": [],
   "source": [
    "train_2017 = pd.read_csv('data/train_2017.csv')"
   ]
  },
  {
   "cell_type": "code",
   "execution_count": 5,
   "metadata": {
    "collapsed": true
   },
   "outputs": [
    {
     "name": "stderr",
     "output_type": "stream",
     "text": [
      "/home/tyagi/CSE519-2017-111482304-111733554/env/lib/python3.4/site-packages/IPython/core/interactiveshell.py:2728: DtypeWarning: Columns (49) have mixed types. Specify dtype option on import or set low_memory=False.\n",
      "  interactivity=interactivity, compiler=compiler, result=result)\n"
     ]
    }
   ],
   "source": [
    "properties_2017 = pd.read_csv('data/properties_2017.csv')"
   ]
  },
  {
   "cell_type": "markdown",
   "metadata": {},
   "source": [
    "### Reducing the size of the dataframes"
   ]
  },
  {
   "cell_type": "markdown",
   "metadata": {},
   "source": [
    "#### Setting up the functions"
   ]
  },
  {
   "cell_type": "code",
   "execution_count": 6,
   "metadata": {},
   "outputs": [],
   "source": [
    "def get_min_memory_type(colobj, verbose=0):\n",
    "    orig_type = colobj.dtype\n",
    "    new_types = [\"uint8\", \"int8\", \"uint16\", \"int16\", 'float16', \"uint32\", \"int32\", 'float32']\n",
    "    if (orig_type not in new_types and orig_type not in [\"int64\", \"uint64\", \"float64\"]):\n",
    "        if (verbose > 0):\n",
    "            print(\"Type {} of column {} is unsupported\".format(orig_type, colobj.name))\n",
    "        return orig_type\n",
    "\n",
    "    for new_type in new_types:\n",
    "        yes_min = colobj.min() == colobj.min().astype(new_type).astype(orig_type)\n",
    "        yes_max = colobj.max() == colobj.max().astype(new_type).astype(orig_type)\n",
    "        if (yes_min and yes_max):\n",
    "            return new_type\n",
    "\n",
    "    if (verbose > 0):\n",
    "        print(\"No optimisation found for {} column of {} type\".format(colobj.name, orig_type))\n",
    "    return orig_type\n",
    "\n",
    "\n",
    "def reduce_mem_usage(df, exclude=[], verbose=0):\n",
    "    start_mem_usg = df.memory_usage().sum() / 1024 ** 2\n",
    "    if (verbose > 0):\n",
    "        print(\"Memory usage before :\", start_mem_usg, \" MB\")\n",
    "\n",
    "    for colname in df.columns:\n",
    "        if (colname not in exclude):\n",
    "            colobj = getattr(df, colname)\n",
    "            new_type = get_min_memory_type(colobj, verbose)\n",
    "            if (new_type != colobj.dtype):\n",
    "                if (verbose > 0):\n",
    "                    print(\"Converting {} column from {} to {}\".format(colname, colobj.dtype, new_type))\n",
    "                df[colname] = df[colname].astype(new_type)\n",
    "\n",
    "    end_mem_usg = df.memory_usage().sum() / 1024 ** 2\n",
    "\n",
    "    if (verbose > 0):\n",
    "        print(\"Memory usage after :\", end_mem_usg, \" MB\")\n",
    "\n",
    "    mem_usg_diff_prc = float((end_mem_usg - start_mem_usg)) * 100 / start_mem_usg\n",
    "\n",
    "    if (verbose > 0):\n",
    "        if (end_mem_usg < start_mem_usg):\n",
    "            print(\"Memory gain: {0:0.2f}%\".format(-mem_usg_diff_prc))\n",
    "        else:\n",
    "            print(\"Memory loss: {0:0.2f}%\".format(mem_usg_diff_prc))\n",
    "\n",
    "    return -mem_usg_diff_prc\n",
    "\n",
    "def fillna_mean(df, cols):\n",
    "    for col in cols:\n",
    "        mean_values = df[[col]].mean(axis=0)\n",
    "#         print(col, mean_values[col])\n",
    "        df[col].fillna(mean_values[col], inplace=True)"
   ]
  },
  {
   "cell_type": "markdown",
   "metadata": {},
   "source": [
    "#### Filling the Nan with Means"
   ]
  },
  {
   "cell_type": "code",
   "execution_count": 7,
   "metadata": {},
   "outputs": [],
   "source": [
    "fillna_mean(properties_2016, ['airconditioningtypeid','architecturalstyletypeid','basementsqft',\n",
    "                        'bathroomcnt','bedroomcnt','buildingqualitytypeid','buildingclasstypeid',\n",
    "                        'calculatedbathnbr','decktypeid','threequarterbathnbr','finishedfloor1squarefeet',\n",
    "                        'calculatedfinishedsquarefeet','finishedsquarefeet6','finishedsquarefeet12',\n",
    "                        'finishedsquarefeet13','finishedsquarefeet15','finishedsquarefeet50',\n",
    "                        'fireplacecnt','fireplaceflag','fullbathcnt','garagecarcnt','garagetotalsqft',\n",
    "                        'hashottuborspa','heatingorsystemtypeid','lotsizesquarefeet',\n",
    "                        'numberofstories','poolcnt','poolsizesum','pooltypeid10','pooltypeid2',\n",
    "                        'pooltypeid7','regionidcounty','regionidcity','regionidzip',\n",
    "                        'regionidneighborhood','roomcnt','storytypeid','typeconstructiontypeid',\n",
    "                        'unitcnt','yardbuildingsqft17','yardbuildingsqft26','yearbuilt','taxvaluedollarcnt',\n",
    "                        'structuretaxvaluedollarcnt','landtaxvaluedollarcnt','taxamount','assessmentyear'])"
   ]
  },
  {
   "cell_type": "code",
   "execution_count": 8,
   "metadata": {},
   "outputs": [],
   "source": [
    "fillna_mean(properties_2017, ['airconditioningtypeid','architecturalstyletypeid','basementsqft',\n",
    "                        'bathroomcnt','bedroomcnt','buildingqualitytypeid','buildingclasstypeid',\n",
    "                        'calculatedbathnbr','decktypeid','threequarterbathnbr','finishedfloor1squarefeet',\n",
    "                        'calculatedfinishedsquarefeet','finishedsquarefeet6','finishedsquarefeet12',\n",
    "                        'finishedsquarefeet13','finishedsquarefeet15','finishedsquarefeet50',\n",
    "                        'fireplacecnt','fireplaceflag','fullbathcnt','garagecarcnt','garagetotalsqft',\n",
    "                        'hashottuborspa','heatingorsystemtypeid','lotsizesquarefeet',\n",
    "                        'numberofstories','poolcnt','poolsizesum','pooltypeid10','pooltypeid2',\n",
    "                        'pooltypeid7','regionidcounty','regionidcity','regionidzip',\n",
    "                        'regionidneighborhood','roomcnt','storytypeid','typeconstructiontypeid',\n",
    "                        'unitcnt','yardbuildingsqft17','yardbuildingsqft26','yearbuilt','taxvaluedollarcnt',\n",
    "                        'structuretaxvaluedollarcnt','landtaxvaluedollarcnt','taxamount','assessmentyear'])"
   ]
  },
  {
   "cell_type": "markdown",
   "metadata": {},
   "source": [
    "#### Reduce the memory usage for properties file"
   ]
  },
  {
   "cell_type": "code",
   "execution_count": 9,
   "metadata": {
    "collapsed": true
   },
   "outputs": [
    {
     "name": "stdout",
     "output_type": "stream",
     "text": [
      "Memory usage before : 1070.44379425  MB\n",
      "Converting airconditioningtypeid column from float64 to uint8\n"
     ]
    },
    {
     "name": "stderr",
     "output_type": "stream",
     "text": [
      "/home/tyagi/CSE519-2017-111482304-111733554/env/lib/python3.4/site-packages/ipykernel_launcher.py:32: SettingWithCopyWarning: \n",
      "A value is trying to be set on a copy of a slice from a DataFrame.\n",
      "Try using .loc[row_indexer,col_indexer] = value instead\n",
      "\n",
      "See the caveats in the documentation: http://pandas.pydata.org/pandas-docs/stable/indexing.html#indexing-view-versus-copy\n"
     ]
    },
    {
     "name": "stdout",
     "output_type": "stream",
     "text": [
      "Converting architecturalstyletypeid column from float64 to uint8\n",
      "Converting basementsqft column from float64 to uint16\n",
      "Converting bathroomcnt column from float64 to uint8\n",
      "Converting bedroomcnt column from float64 to uint8\n",
      "Converting buildingqualitytypeid column from float64 to uint8\n",
      "Converting buildingclasstypeid column from float64 to uint8\n",
      "Converting calculatedbathnbr column from float64 to uint8\n",
      "Converting decktypeid column from float64 to uint8\n",
      "Converting threequarterbathnbr column from float64 to uint8\n",
      "Converting finishedfloor1squarefeet column from float64 to uint16\n",
      "Converting calculatedfinishedsquarefeet column from float64 to uint32\n",
      "Converting finishedsquarefeet6 column from float64 to uint32\n",
      "Converting finishedsquarefeet12 column from float64 to uint32\n",
      "Converting finishedsquarefeet13 column from float64 to uint16\n",
      "Converting finishedsquarefeet15 column from float64 to uint32\n",
      "Converting finishedsquarefeet50 column from float64 to uint16\n",
      "Converting fireplacecnt column from float64 to uint8\n",
      "Type object of column fireplaceflag is unsupported\n",
      "Converting fullbathcnt column from float64 to uint8\n",
      "Converting garagecarcnt column from float64 to uint8\n",
      "Converting garagetotalsqft column from float64 to uint16\n",
      "Type object of column hashottuborspa is unsupported\n",
      "Converting heatingorsystemtypeid column from float64 to uint8\n",
      "Converting lotsizesquarefeet column from float64 to uint32\n",
      "Converting numberofstories column from float64 to uint8\n",
      "Converting poolcnt column from float64 to uint8\n",
      "Converting poolsizesum column from float64 to uint16\n",
      "Converting pooltypeid10 column from float64 to uint8\n",
      "Converting pooltypeid2 column from float64 to uint8\n",
      "Converting pooltypeid7 column from float64 to uint8\n",
      "Converting regionidcounty column from float64 to uint16\n",
      "Converting regionidcity column from float64 to uint32\n",
      "Converting regionidzip column from float64 to uint32\n",
      "Converting regionidneighborhood column from float64 to uint32\n",
      "Converting roomcnt column from float64 to uint8\n",
      "Converting storytypeid column from float64 to uint8\n",
      "Converting typeconstructiontypeid column from float64 to uint8\n",
      "Converting unitcnt column from float64 to uint16\n",
      "Converting yardbuildingsqft17 column from float64 to uint16\n",
      "Converting yardbuildingsqft26 column from float64 to uint16\n",
      "Converting yearbuilt column from float64 to uint16\n",
      "Converting taxvaluedollarcnt column from float64 to uint32\n",
      "Converting structuretaxvaluedollarcnt column from float64 to uint32\n",
      "Converting landtaxvaluedollarcnt column from float64 to uint32\n",
      "No optimisation found for taxamount column of float64 type\n",
      "Converting assessmentyear column from float64 to uint16\n",
      "Memory usage after : 321.702576637  MB\n",
      "Memory gain: 69.95%\n"
     ]
    },
    {
     "data": {
      "text/plain": [
       "69.946803525306038"
      ]
     },
     "execution_count": 9,
     "metadata": {},
     "output_type": "execute_result"
    }
   ],
   "source": [
    "reduce_mem_usage(properties_2016[['airconditioningtypeid','architecturalstyletypeid','basementsqft',\n",
    "                        'bathroomcnt','bedroomcnt','buildingqualitytypeid','buildingclasstypeid',\n",
    "                        'calculatedbathnbr','decktypeid','threequarterbathnbr','finishedfloor1squarefeet',\n",
    "                        'calculatedfinishedsquarefeet','finishedsquarefeet6','finishedsquarefeet12',\n",
    "                        'finishedsquarefeet13','finishedsquarefeet15','finishedsquarefeet50',\n",
    "                        'fireplacecnt','fireplaceflag','fullbathcnt','garagecarcnt','garagetotalsqft',\n",
    "                        'hashottuborspa','heatingorsystemtypeid','lotsizesquarefeet',\n",
    "                        'numberofstories','poolcnt','poolsizesum','pooltypeid10','pooltypeid2',\n",
    "                        'pooltypeid7','regionidcounty','regionidcity','regionidzip',\n",
    "                        'regionidneighborhood','roomcnt','storytypeid','typeconstructiontypeid',\n",
    "                        'unitcnt','yardbuildingsqft17','yardbuildingsqft26','yearbuilt','taxvaluedollarcnt',\n",
    "                        'structuretaxvaluedollarcnt','landtaxvaluedollarcnt','taxamount','assessmentyear']],\n",
    "                        [],1)"
   ]
  },
  {
   "cell_type": "code",
   "execution_count": 10,
   "metadata": {
    "collapsed": true
   },
   "outputs": [
    {
     "name": "stdout",
     "output_type": "stream",
     "text": [
      "Memory usage before : 1070.44379425  MB\n",
      "Converting airconditioningtypeid column from float64 to uint8\n"
     ]
    },
    {
     "name": "stderr",
     "output_type": "stream",
     "text": [
      "/home/tyagi/CSE519-2017-111482304-111733554/env/lib/python3.4/site-packages/ipykernel_launcher.py:32: SettingWithCopyWarning: \n",
      "A value is trying to be set on a copy of a slice from a DataFrame.\n",
      "Try using .loc[row_indexer,col_indexer] = value instead\n",
      "\n",
      "See the caveats in the documentation: http://pandas.pydata.org/pandas-docs/stable/indexing.html#indexing-view-versus-copy\n"
     ]
    },
    {
     "name": "stdout",
     "output_type": "stream",
     "text": [
      "Converting architecturalstyletypeid column from float64 to uint8\n",
      "Converting basementsqft column from float64 to uint16\n",
      "Converting bathroomcnt column from float64 to uint8\n",
      "Converting bedroomcnt column from float64 to uint8\n",
      "Converting buildingqualitytypeid column from float64 to uint8\n",
      "Converting buildingclasstypeid column from float64 to uint8\n",
      "Converting calculatedbathnbr column from float64 to uint8\n",
      "Converting decktypeid column from float64 to uint8\n",
      "Converting threequarterbathnbr column from float64 to uint8\n",
      "Converting finishedfloor1squarefeet column from float64 to uint16\n",
      "Converting calculatedfinishedsquarefeet column from float64 to uint32\n",
      "Converting finishedsquarefeet6 column from float64 to uint32\n",
      "Converting finishedsquarefeet12 column from float64 to uint32\n",
      "Converting finishedsquarefeet13 column from float64 to uint16\n",
      "Converting finishedsquarefeet15 column from float64 to uint32\n",
      "Converting finishedsquarefeet50 column from float64 to uint16\n",
      "Converting fireplacecnt column from float64 to uint8\n",
      "Type object of column fireplaceflag is unsupported\n",
      "Converting fullbathcnt column from float64 to uint8\n",
      "Converting garagecarcnt column from float64 to uint8\n",
      "Converting garagetotalsqft column from float64 to uint16\n",
      "Type object of column hashottuborspa is unsupported\n",
      "Converting heatingorsystemtypeid column from float64 to uint8\n",
      "Converting lotsizesquarefeet column from float64 to uint32\n",
      "Converting numberofstories column from float64 to uint8\n",
      "Converting poolcnt column from float64 to uint8\n",
      "Converting poolsizesum column from float64 to uint16\n",
      "Converting pooltypeid10 column from float64 to uint8\n",
      "Converting pooltypeid2 column from float64 to uint8\n",
      "Converting pooltypeid7 column from float64 to uint8\n",
      "Converting regionidcounty column from float64 to uint16\n",
      "Converting regionidcity column from float64 to uint32\n",
      "Converting regionidzip column from float64 to uint32\n",
      "Converting regionidneighborhood column from float64 to uint32\n",
      "Converting roomcnt column from float64 to uint8\n",
      "Converting storytypeid column from float64 to uint8\n",
      "Converting typeconstructiontypeid column from float64 to uint8\n",
      "Converting unitcnt column from float64 to uint16\n",
      "Converting yardbuildingsqft17 column from float64 to uint16\n",
      "Converting yardbuildingsqft26 column from float64 to uint16\n",
      "Converting yearbuilt column from float64 to uint16\n",
      "Converting taxvaluedollarcnt column from float64 to uint32\n",
      "Converting structuretaxvaluedollarcnt column from float64 to uint32\n",
      "Converting landtaxvaluedollarcnt column from float64 to uint32\n",
      "No optimisation found for taxamount column of float64 type\n",
      "Converting assessmentyear column from float64 to uint16\n",
      "Memory usage after : 321.702576637  MB\n",
      "Memory gain: 69.95%\n"
     ]
    },
    {
     "data": {
      "text/plain": [
       "69.946803525306038"
      ]
     },
     "execution_count": 10,
     "metadata": {},
     "output_type": "execute_result"
    }
   ],
   "source": [
    "reduce_mem_usage(properties_2017[['airconditioningtypeid','architecturalstyletypeid','basementsqft',\n",
    "                        'bathroomcnt','bedroomcnt','buildingqualitytypeid','buildingclasstypeid',\n",
    "                        'calculatedbathnbr','decktypeid','threequarterbathnbr','finishedfloor1squarefeet',\n",
    "                        'calculatedfinishedsquarefeet','finishedsquarefeet6','finishedsquarefeet12',\n",
    "                        'finishedsquarefeet13','finishedsquarefeet15','finishedsquarefeet50',\n",
    "                        'fireplacecnt','fireplaceflag','fullbathcnt','garagecarcnt','garagetotalsqft',\n",
    "                        'hashottuborspa','heatingorsystemtypeid','lotsizesquarefeet',\n",
    "                        'numberofstories','poolcnt','poolsizesum','pooltypeid10','pooltypeid2',\n",
    "                        'pooltypeid7','regionidcounty','regionidcity','regionidzip',\n",
    "                        'regionidneighborhood','roomcnt','storytypeid','typeconstructiontypeid',\n",
    "                        'unitcnt','yardbuildingsqft17','yardbuildingsqft26','yearbuilt','taxvaluedollarcnt',\n",
    "                        'structuretaxvaluedollarcnt','landtaxvaluedollarcnt','taxamount','assessmentyear']],\n",
    "                        [],1)"
   ]
  },
  {
   "cell_type": "markdown",
   "metadata": {},
   "source": [
    "### Merging the properties and logerrors"
   ]
  },
  {
   "cell_type": "code",
   "execution_count": 11,
   "metadata": {},
   "outputs": [],
   "source": [
    "prop16_train16 = pd.merge(train_2016,properties_2016, on='parcelid', how='left')\n",
    "prop16_train17 = pd.merge(train_2017,properties_2016, on='parcelid', how='left')\n",
    "prop17_train16 = pd.merge(train_2016,properties_2017, on='parcelid', how='left')\n",
    "prop17_train17 = pd.merge(train_2017,properties_2017, on='parcelid', how='left')"
   ]
  },
  {
   "cell_type": "markdown",
   "metadata": {},
   "source": [
    "Use data normalization and not zscore thing."
   ]
  },
  {
   "cell_type": "code",
   "execution_count": 18,
   "metadata": {},
   "outputs": [],
   "source": [
    "min_max_scalar = MinMaxScaler()\n",
    "prop16_train16[['basementsqft','bathroomcnt','bedroomcnt','calculatedbathnbr','threequarterbathnbr',\n",
    "                'finishedfloor1squarefeet','calculatedfinishedsquarefeet','finishedsquarefeet6',\n",
    "                'finishedsquarefeet12','finishedsquarefeet13','finishedsquarefeet15','finishedsquarefeet50',\n",
    "                'fireplacecnt','fullbathcnt','garagecarcnt','garagetotalsqft','lotsizesquarefeet',\n",
    "                'numberofstories','poolcnt','poolsizesum','roomcnt','unitcnt','yardbuildingsqft17',\n",
    "                'yardbuildingsqft26','taxvaluedollarcnt','structuretaxvaluedollarcnt','landtaxvaluedollarcnt',\n",
    "                'taxamount']] = min_max_scalar.fit_transform(\n",
    "prop16_train16[['basementsqft','bathroomcnt','bedroomcnt','calculatedbathnbr','threequarterbathnbr',\n",
    "                'finishedfloor1squarefeet','calculatedfinishedsquarefeet','finishedsquarefeet6',\n",
    "                'finishedsquarefeet12','finishedsquarefeet13','finishedsquarefeet15','finishedsquarefeet50',\n",
    "                'fireplacecnt','fullbathcnt','garagecarcnt','garagetotalsqft','lotsizesquarefeet',\n",
    "                'numberofstories','poolcnt','poolsizesum','roomcnt','unitcnt','yardbuildingsqft17',\n",
    "                'yardbuildingsqft26','taxvaluedollarcnt','structuretaxvaluedollarcnt','landtaxvaluedollarcnt',\n",
    "                'taxamount']])"
   ]
  },
  {
   "cell_type": "code",
   "execution_count": 19,
   "metadata": {},
   "outputs": [],
   "source": [
    "prop16_train17[['basementsqft','bathroomcnt','bedroomcnt','calculatedbathnbr','threequarterbathnbr',\n",
    "                'finishedfloor1squarefeet','calculatedfinishedsquarefeet','finishedsquarefeet6',\n",
    "                'finishedsquarefeet12','finishedsquarefeet13','finishedsquarefeet15','finishedsquarefeet50',\n",
    "                'fireplacecnt','fullbathcnt','garagecarcnt','garagetotalsqft','lotsizesquarefeet',\n",
    "                'numberofstories','poolcnt','poolsizesum','roomcnt','unitcnt','yardbuildingsqft17',\n",
    "                'yardbuildingsqft26','taxvaluedollarcnt','structuretaxvaluedollarcnt','landtaxvaluedollarcnt',\n",
    "                'taxamount']] = min_max_scalar.fit_transform(\n",
    "prop16_train17[['basementsqft','bathroomcnt','bedroomcnt','calculatedbathnbr','threequarterbathnbr',\n",
    "                'finishedfloor1squarefeet','calculatedfinishedsquarefeet','finishedsquarefeet6',\n",
    "                'finishedsquarefeet12','finishedsquarefeet13','finishedsquarefeet15','finishedsquarefeet50',\n",
    "                'fireplacecnt','fullbathcnt','garagecarcnt','garagetotalsqft','lotsizesquarefeet',\n",
    "                'numberofstories','poolcnt','poolsizesum','roomcnt','unitcnt','yardbuildingsqft17',\n",
    "                'yardbuildingsqft26','taxvaluedollarcnt','structuretaxvaluedollarcnt','landtaxvaluedollarcnt',\n",
    "                'taxamount']])\n",
    "prop17_train16[['basementsqft','bathroomcnt','bedroomcnt','calculatedbathnbr','threequarterbathnbr',\n",
    "                'finishedfloor1squarefeet','calculatedfinishedsquarefeet','finishedsquarefeet6',\n",
    "                'finishedsquarefeet12','finishedsquarefeet13','finishedsquarefeet15','finishedsquarefeet50',\n",
    "                'fireplacecnt','fullbathcnt','garagecarcnt','garagetotalsqft','lotsizesquarefeet',\n",
    "                'numberofstories','poolcnt','poolsizesum','roomcnt','unitcnt','yardbuildingsqft17',\n",
    "                'yardbuildingsqft26','taxvaluedollarcnt','structuretaxvaluedollarcnt','landtaxvaluedollarcnt',\n",
    "                'taxamount']] = min_max_scalar.fit_transform(\n",
    "prop17_train16[['basementsqft','bathroomcnt','bedroomcnt','calculatedbathnbr','threequarterbathnbr',\n",
    "                'finishedfloor1squarefeet','calculatedfinishedsquarefeet','finishedsquarefeet6',\n",
    "                'finishedsquarefeet12','finishedsquarefeet13','finishedsquarefeet15','finishedsquarefeet50',\n",
    "                'fireplacecnt','fullbathcnt','garagecarcnt','garagetotalsqft','lotsizesquarefeet',\n",
    "                'numberofstories','poolcnt','poolsizesum','roomcnt','unitcnt','yardbuildingsqft17',\n",
    "                'yardbuildingsqft26','taxvaluedollarcnt','structuretaxvaluedollarcnt','landtaxvaluedollarcnt',\n",
    "                'taxamount']])\n",
    "prop17_train17[['basementsqft','bathroomcnt','bedroomcnt','calculatedbathnbr','threequarterbathnbr',\n",
    "                'finishedfloor1squarefeet','calculatedfinishedsquarefeet','finishedsquarefeet6',\n",
    "                'finishedsquarefeet12','finishedsquarefeet13','finishedsquarefeet15','finishedsquarefeet50',\n",
    "                'fireplacecnt','fullbathcnt','garagecarcnt','garagetotalsqft','lotsizesquarefeet',\n",
    "                'numberofstories','poolcnt','poolsizesum','roomcnt','unitcnt','yardbuildingsqft17',\n",
    "                'yardbuildingsqft26','taxvaluedollarcnt','structuretaxvaluedollarcnt','landtaxvaluedollarcnt',\n",
    "                'taxamount']] = min_max_scalar.fit_transform(\n",
    "prop17_train17[['basementsqft','bathroomcnt','bedroomcnt','calculatedbathnbr','threequarterbathnbr',\n",
    "                'finishedfloor1squarefeet','calculatedfinishedsquarefeet','finishedsquarefeet6',\n",
    "                'finishedsquarefeet12','finishedsquarefeet13','finishedsquarefeet15','finishedsquarefeet50',\n",
    "                'fireplacecnt','fullbathcnt','garagecarcnt','garagetotalsqft','lotsizesquarefeet',\n",
    "                'numberofstories','poolcnt','poolsizesum','roomcnt','unitcnt','yardbuildingsqft17',\n",
    "                'yardbuildingsqft26','taxvaluedollarcnt','structuretaxvaluedollarcnt','landtaxvaluedollarcnt',\n",
    "                'taxamount']])"
   ]
  },
  {
   "cell_type": "markdown",
   "metadata": {},
   "source": [
    "### Seperating the training and testing files"
   ]
  },
  {
   "cell_type": "code",
   "execution_count": 20,
   "metadata": {},
   "outputs": [],
   "source": [
    "test1 = prop16_train16.iloc[0:9000]\n",
    "test2 = prop16_train17.iloc[7000:14000]\n",
    "test3 = prop17_train16.iloc[18000:27000]\n",
    "test4 = prop17_train17.iloc[21000:28000]"
   ]
  },
  {
   "cell_type": "code",
   "execution_count": 21,
   "metadata": {},
   "outputs": [],
   "source": [
    "train1 = prop16_train16.drop(prop16_train16.index[0:9000])\n",
    "train2 = prop16_train17.drop(prop16_train17.index[7000:14000])\n",
    "train3 = prop17_train16.drop(prop17_train16.index[18000:27000])\n",
    "train4 = prop17_train17.drop(prop17_train17.index[21000:28000])"
   ]
  },
  {
   "cell_type": "markdown",
   "metadata": {},
   "source": [
    "### Now the feature selection\n",
    "#### Filter the data first"
   ]
  },
  {
   "cell_type": "code",
   "execution_count": 57,
   "metadata": {},
   "outputs": [],
   "source": [
    "x_train1 = train1.drop(['parcelid', 'transactiondate', 'propertyzoningdesc', \n",
    "                         'propertycountylandusecode','taxdelinquencyflag','taxdelinquencyyear',\n",
    "                          'censustractandblock'], axis=1)\n",
    "x_train2 = train2.drop(['parcelid', 'transactiondate', 'propertyzoningdesc', \n",
    "                         'propertycountylandusecode','taxdelinquencyflag','taxdelinquencyyear',\n",
    "                          'censustractandblock'], axis=1)\n",
    "x_train3 = train3.drop(['parcelid', 'transactiondate', 'propertyzoningdesc', \n",
    "                         'propertycountylandusecode','taxdelinquencyflag','taxdelinquencyyear',\n",
    "                          'censustractandblock'], axis=1)\n",
    "x_train4 = train4.drop(['parcelid', 'transactiondate', 'propertyzoningdesc', \n",
    "                         'propertycountylandusecode','taxdelinquencyflag','taxdelinquencyyear',\n",
    "                          'censustractandblock'], axis=1)"
   ]
  },
  {
   "cell_type": "markdown",
   "metadata": {},
   "source": [
    "### Performing linear regression and Lasso for feature selection"
   ]
  },
  {
   "cell_type": "code",
   "execution_count": 58,
   "metadata": {},
   "outputs": [],
   "source": [
    "x_train1 = x_train1.dropna(axis=0, how='any')\n",
    "x_train2 = x_train2.dropna(axis=0, how='any')\n",
    "x_train3 = x_train3.dropna(axis=0, how='any')\n",
    "x_train4 = x_train4.dropna(axis=0, how='any')"
   ]
  },
  {
   "cell_type": "code",
   "execution_count": 59,
   "metadata": {},
   "outputs": [],
   "source": [
    "Y1 = x_train1['logerror'].values\n",
    "Y2 = x_train2['logerror'].values\n",
    "Y3 = x_train3['logerror'].values\n",
    "Y4 = x_train4['logerror'].values\n",
    "x_train1 = x_train1.drop(['logerror'], axis=1)\n",
    "x_train2 = x_train2.drop(['logerror'], axis=1)\n",
    "x_train3 = x_train3.drop(['logerror'], axis=1)\n",
    "x_train4 = x_train4.drop(['logerror'], axis=1)"
   ]
  },
  {
   "cell_type": "code",
   "execution_count": 60,
   "metadata": {},
   "outputs": [],
   "source": [
    "X1 = x_train1.as_matrix()\n",
    "X2 = x_train2.as_matrix()\n",
    "X3 = x_train3.as_matrix()\n",
    "X4 = x_train4.as_matrix()\n",
    "colnames = x_train1.columns"
   ]
  },
  {
   "cell_type": "code",
   "execution_count": 50,
   "metadata": {},
   "outputs": [],
   "source": [
    "ranks = {}\n",
    "def ranking(ranks, names, order=1):\n",
    "    minmax = MinMaxScaler()\n",
    "    ranks = minmax.fit_transform(order*np.array([ranks]).T).T[0]\n",
    "    ranks = map(lambda x: round(x,2), ranks)\n",
    "    return dict(zip(names, ranks))"
   ]
  },
  {
   "cell_type": "code",
   "execution_count": 61,
   "metadata": {},
   "outputs": [],
   "source": [
    "# Using Linear Regression\n",
    "lr = LinearRegression()\n",
    "lr.fit(X1,Y1)\n",
    "ranks[\"LinReg1\"] = ranking(np.abs(lr.coef_), colnames)\n",
    "lr.fit(X2,Y2)\n",
    "ranks[\"LinReg2\"] = ranking(np.abs(lr.coef_), colnames)\n",
    "lr.fit(X3,Y3)\n",
    "ranks[\"LinReg3\"] = ranking(np.abs(lr.coef_), colnames)\n",
    "lr.fit(X4,Y4)\n",
    "ranks[\"LinReg4\"] = ranking(np.abs(lr.coef_), colnames)\n"
   ]
  },
  {
   "cell_type": "code",
   "execution_count": 62,
   "metadata": {},
   "outputs": [],
   "source": [
    "# Using Ridge \n",
    "ridge = Ridge(alpha = 7)\n",
    "ridge.fit(X1,Y1)\n",
    "ranks['Ridge1'] = ranking(np.abs(ridge.coef_), colnames)\n",
    "ridge.fit(X2,Y2)\n",
    "ranks['Ridge2'] = ranking(np.abs(ridge.coef_), colnames)\n",
    "ridge.fit(X3,Y3)\n",
    "ranks['Ridge3'] = ranking(np.abs(ridge.coef_), colnames)\n",
    "ridge.fit(X4,Y4)\n",
    "ranks['Ridge4'] = ranking(np.abs(ridge.coef_), colnames)\n"
   ]
  },
  {
   "cell_type": "code",
   "execution_count": 63,
   "metadata": {},
   "outputs": [],
   "source": [
    "# # Using Lasso\n",
    "lasso = Lasso(alpha=.05)\n",
    "lasso.fit(X1, Y1)\n",
    "ranks[\"Lasso1\"] = ranking(np.abs(lasso.coef_), colnames)\n",
    "lasso.fit(X2, Y2)\n",
    "ranks[\"Lasso2\"] = ranking(np.abs(lasso.coef_), colnames)\n",
    "lasso.fit(X3, Y3)\n",
    "ranks[\"Lasso3\"] = ranking(np.abs(lasso.coef_), colnames)\n",
    "lasso.fit(X4, Y4)\n",
    "ranks[\"Lasso4\"] = ranking(np.abs(lasso.coef_), colnames)\n"
   ]
  },
  {
   "cell_type": "code",
   "execution_count": 64,
   "metadata": {
    "collapsed": true
   },
   "outputs": [
    {
     "name": "stdout",
     "output_type": "stream",
     "text": [
      "building tree 3 of 50building tree 2 of 50\n",
      "building tree 4 of 50building tree 1 of 50\n",
      "\n",
      "\n",
      "building tree 5 of 50\n",
      "building tree 6 of 50\n",
      "building tree 7 of 50\n",
      "building tree 8 of 50\n",
      "building tree 9 of 50\n",
      "building tree 10 of 50\n",
      "building tree 11 of 50\n",
      "building tree 12 of 50\n",
      "building tree 13 of 50\n",
      "building tree 14 of 50\n",
      "building tree 15 of 50\n",
      "building tree 16 of 50\n",
      "building tree 17 of 50\n",
      "building tree 18 of 50\n",
      "building tree 19 of 50\n",
      "building tree 20 of 50\n",
      "building tree 21 of 50\n",
      "building tree 22 of 50\n",
      "building tree 23 of 50\n",
      "building tree 24 of 50\n",
      "building tree 25 of 50\n",
      "building tree 26 of 50\n",
      "building tree 27 of 50\n",
      "building tree 28 of 50\n",
      "building tree 29 of 50\n",
      "building tree 30 of 50\n",
      "building tree 31 of 50\n",
      "building tree 32 of 50\n",
      "building tree 33 of 50\n",
      "building tree 34 of 50\n",
      "building tree 35 of 50\n",
      "building tree 36 of 50\n"
     ]
    },
    {
     "name": "stderr",
     "output_type": "stream",
     "text": [
      "[Parallel(n_jobs=-1)]: Done  33 tasks      | elapsed:   59.4s\n"
     ]
    },
    {
     "name": "stdout",
     "output_type": "stream",
     "text": [
      "building tree 37 of 50\n",
      "building tree 38 of 50\n",
      "building tree 39 of 50\n",
      "building tree 40 of 50\n",
      "building tree 41 of 50\n",
      "building tree 42 of 50\n",
      "building tree 43 of 50\n",
      "building tree 44 of 50\n",
      "building tree 45 of 50\n",
      "building tree 46 of 50\n",
      "building tree 47 of 50\n",
      "building tree 48 of 50\n",
      "building tree 49 of 50\n",
      "building tree 50 of 50\n"
     ]
    },
    {
     "name": "stderr",
     "output_type": "stream",
     "text": [
      "[Parallel(n_jobs=-1)]: Done  50 out of  50 | elapsed:  1.4min finished\n"
     ]
    },
    {
     "name": "stdout",
     "output_type": "stream",
     "text": [
      "building tree 3 of 50\n",
      "building tree 1 of 50building tree 4 of 50building tree 2 of 50\n",
      "\n",
      "\n",
      "building tree 5 of 50\n",
      "building tree 6 of 50\n",
      "building tree 7 of 50\n",
      "building tree 8 of 50\n",
      "building tree 9 of 50\n",
      "building tree 10 of 50\n",
      "building tree 11 of 50\n",
      "building tree 12 of 50\n",
      "building tree 13 of 50\n",
      "building tree 14 of 50\n",
      "building tree 15 of 50\n",
      "building tree 16 of 50\n",
      "building tree 17 of 50\n",
      "building tree 18 of 50\n",
      "building tree 19 of 50\n",
      "building tree 20 of 50\n",
      "building tree 21 of 50\n",
      "building tree 22 of 50\n",
      "building tree 23 of 50\n",
      "building tree 24 of 50\n",
      "building tree 25 of 50\n",
      "building tree 26 of 50\n",
      "building tree 27 of 50\n",
      "building tree 28 of 50\n",
      "building tree 29 of 50\n",
      "building tree 30 of 50\n",
      "building tree 31 of 50\n",
      "building tree 32 of 50\n",
      "building tree 33 of 50\n",
      "building tree 34 of 50\n",
      "building tree 35 of 50\n",
      "building tree 36 of 50\n"
     ]
    },
    {
     "name": "stderr",
     "output_type": "stream",
     "text": [
      "[Parallel(n_jobs=-1)]: Done  33 tasks      | elapsed:   48.2s\n"
     ]
    },
    {
     "name": "stdout",
     "output_type": "stream",
     "text": [
      "building tree 37 of 50\n",
      "building tree 38 of 50\n",
      "building tree 39 of 50\n",
      "building tree 40 of 50\n",
      "building tree 41 of 50\n",
      "building tree 42 of 50\n",
      "building tree 43 of 50\n",
      "building tree 44 of 50\n",
      "building tree 45 of 50\n",
      "building tree 46 of 50\n",
      "building tree 47 of 50\n",
      "building tree 48 of 50\n",
      "building tree 49 of 50\n",
      "building tree 50 of 50\n"
     ]
    },
    {
     "name": "stderr",
     "output_type": "stream",
     "text": [
      "[Parallel(n_jobs=-1)]: Done  50 out of  50 | elapsed:  1.1min finished\n"
     ]
    },
    {
     "name": "stdout",
     "output_type": "stream",
     "text": [
      "building tree 3 of 50building tree 2 of 50building tree 1 of 50building tree 4 of 50\n",
      "\n",
      "\n",
      "\n",
      "building tree 5 of 50\n",
      "building tree 6 of 50\n",
      "building tree 7 of 50\n",
      "building tree 8 of 50\n",
      "building tree 9 of 50\n",
      "building tree 10 of 50\n",
      "building tree 11 of 50\n",
      "building tree 12 of 50\n",
      "building tree 13 of 50\n",
      "building tree 14 of 50\n",
      "building tree 15 of 50\n",
      "building tree 16 of 50\n",
      "building tree 17 of 50\n",
      "building tree 18 of 50\n",
      "building tree 19 of 50\n",
      "building tree 20 of 50\n",
      "building tree 21 of 50\n",
      "building tree 22 of 50\n",
      "building tree 23 of 50\n",
      "building tree 24 of 50\n",
      "building tree 25 of 50\n",
      "building tree 26 of 50\n",
      "building tree 27 of 50\n",
      "building tree 28 of 50\n",
      "building tree 29 of 50\n",
      "building tree 30 of 50\n",
      "building tree 31 of 50\n",
      "building tree 32 of 50\n",
      "building tree 33 of 50\n",
      "building tree 34 of 50\n",
      "building tree 35 of 50\n",
      "building tree 36 of 50\n"
     ]
    },
    {
     "name": "stderr",
     "output_type": "stream",
     "text": [
      "[Parallel(n_jobs=-1)]: Done  33 tasks      | elapsed:   58.8s\n"
     ]
    },
    {
     "name": "stdout",
     "output_type": "stream",
     "text": [
      "building tree 37 of 50\n",
      "building tree 38 of 50\n",
      "building tree 39 of 50\n",
      "building tree 40 of 50\n",
      "building tree 41 of 50\n",
      "building tree 42 of 50\n",
      "building tree 43 of 50\n",
      "building tree 44 of 50\n",
      "building tree 45 of 50\n",
      "building tree 46 of 50\n",
      "building tree 47 of 50\n",
      "building tree 48 of 50\n",
      "building tree 49 of 50\n",
      "building tree 50 of 50\n"
     ]
    },
    {
     "name": "stderr",
     "output_type": "stream",
     "text": [
      "[Parallel(n_jobs=-1)]: Done  50 out of  50 | elapsed:  1.4min finished\n"
     ]
    },
    {
     "name": "stdout",
     "output_type": "stream",
     "text": [
      "building tree 1 of 50building tree 2 of 50building tree 3 of 50building tree 4 of 50\n",
      "\n",
      "\n",
      "\n",
      "building tree 5 of 50\n",
      "building tree 6 of 50\n",
      "building tree 7 of 50\n",
      "building tree 8 of 50\n",
      "building tree 9 of 50\n",
      "building tree 10 of 50\n",
      "building tree 11 of 50\n",
      "building tree 12 of 50\n",
      "building tree 13 of 50\n",
      "building tree 14 of 50\n",
      "building tree 15 of 50\n",
      "building tree 16 of 50\n",
      "building tree 17 of 50\n",
      "building tree 18 of 50\n",
      "building tree 19 of 50\n",
      "building tree 20 of 50\n",
      "building tree 21 of 50\n",
      "building tree 22 of 50\n",
      "building tree 23 of 50\n",
      "building tree 24 of 50\n",
      "building tree 25 of 50\n",
      "building tree 26 of 50\n",
      "building tree 27 of 50\n",
      "building tree 28 of 50\n",
      "building tree 29 of 50\n",
      "building tree 30 of 50\n",
      "building tree 31 of 50\n",
      "building tree 32 of 50\n",
      "building tree 33 of 50\n",
      "building tree 34 of 50\n",
      "building tree 35 of 50\n",
      "building tree 36 of 50\n"
     ]
    },
    {
     "name": "stderr",
     "output_type": "stream",
     "text": [
      "[Parallel(n_jobs=-1)]: Done  33 tasks      | elapsed:   49.6s\n"
     ]
    },
    {
     "name": "stdout",
     "output_type": "stream",
     "text": [
      "building tree 37 of 50\n",
      "building tree 38 of 50\n",
      "building tree 39 of 50\n",
      "building tree 40 of 50\n",
      "building tree 41 of 50\n",
      "building tree 42 of 50\n",
      "building tree 43 of 50\n",
      "building tree 44 of 50\n",
      "building tree 45 of 50\n",
      "building tree 46 of 50\n",
      "building tree 47 of 50\n",
      "building tree 48 of 50\n",
      "building tree 49 of 50\n",
      "building tree 50 of 50\n"
     ]
    },
    {
     "name": "stderr",
     "output_type": "stream",
     "text": [
      "[Parallel(n_jobs=-1)]: Done  50 out of  50 | elapsed:  1.2min finished\n"
     ]
    }
   ],
   "source": [
    "# Random Forest Feature ranking\n",
    "rf = RandomForestRegressor(n_jobs=-1, n_estimators=50, verbose=2)\n",
    "rf.fit(X1,Y1)\n",
    "ranks[\"RF1\"] = ranking(rf.feature_importances_, colnames)\n",
    "rf.fit(X2,Y2)\n",
    "ranks[\"RF1\"] = ranking(rf.feature_importances_, colnames)\n",
    "rf.fit(X3,Y3)\n",
    "ranks[\"RF1\"] = ranking(rf.feature_importances_, colnames)\n",
    "rf.fit(X4,Y4)\n",
    "ranks[\"RF1\"] = ranking(rf.feature_importances_, colnames)"
   ]
  },
  {
   "cell_type": "code",
   "execution_count": 69,
   "metadata": {},
   "outputs": [],
   "source": [
    "# Create empty dictionary to store the mean value calculated from all the scores\n",
    "r = {}\n",
    "for name in colnames:\n",
    "    r[name] = round(np.mean([ranks[method][name] \n",
    "                             for method in ranks.keys()]), 2)\n",
    " \n",
    "methods = sorted(ranks.keys())\n",
    "ranks[\"Mean\"] = r\n",
    "methods.append(\"Mean\")\n",
    "\n",
    "# print(\"\\t%s\" % \"\\t\".join(methods))\n",
    "# for name in colnames:\n",
    "#     print(\"%s\\t%s\" % (name, \"\\t\".join(map(str, \n",
    "#                          [ranks[method][name] for method in methods]))))\n"
   ]
  },
  {
   "cell_type": "code",
   "execution_count": 70,
   "metadata": {},
   "outputs": [],
   "source": [
    "# Put the mean scores into a Pandas dataframe\n",
    "meanplot = pd.DataFrame(list(r.items()), columns= ['Feature','Mean Ranking'])\n",
    "\n",
    "# Sort the dataframe\n",
    "meanplot = meanplot.sort_values('Mean Ranking', ascending=False)\n"
   ]
  },
  {
   "cell_type": "code",
   "execution_count": 72,
   "metadata": {},
   "outputs": [
    {
     "data": {
      "text/html": [
       "<div>\n",
       "<style>\n",
       "    .dataframe thead tr:only-child th {\n",
       "        text-align: right;\n",
       "    }\n",
       "\n",
       "    .dataframe thead th {\n",
       "        text-align: left;\n",
       "    }\n",
       "\n",
       "    .dataframe tbody tr th {\n",
       "        vertical-align: top;\n",
       "    }\n",
       "</style>\n",
       "<table border=\"1\" class=\"dataframe\">\n",
       "  <thead>\n",
       "    <tr style=\"text-align: right;\">\n",
       "      <th></th>\n",
       "      <th>Feature</th>\n",
       "      <th>Mean Ranking</th>\n",
       "    </tr>\n",
       "  </thead>\n",
       "  <tbody>\n",
       "    <tr>\n",
       "      <th>5</th>\n",
       "      <td>taxvaluedollarcnt</td>\n",
       "      <td>0.48</td>\n",
       "    </tr>\n",
       "    <tr>\n",
       "      <th>27</th>\n",
       "      <td>landtaxvaluedollarcnt</td>\n",
       "      <td>0.42</td>\n",
       "    </tr>\n",
       "    <tr>\n",
       "      <th>48</th>\n",
       "      <td>structuretaxvaluedollarcnt</td>\n",
       "      <td>0.34</td>\n",
       "    </tr>\n",
       "    <tr>\n",
       "      <th>35</th>\n",
       "      <td>finishedsquarefeet12</td>\n",
       "      <td>0.31</td>\n",
       "    </tr>\n",
       "    <tr>\n",
       "      <th>42</th>\n",
       "      <td>taxamount</td>\n",
       "      <td>0.29</td>\n",
       "    </tr>\n",
       "    <tr>\n",
       "      <th>38</th>\n",
       "      <td>regionidcounty</td>\n",
       "      <td>0.25</td>\n",
       "    </tr>\n",
       "    <tr>\n",
       "      <th>37</th>\n",
       "      <td>calculatedfinishedsquarefeet</td>\n",
       "      <td>0.20</td>\n",
       "    </tr>\n",
       "    <tr>\n",
       "      <th>22</th>\n",
       "      <td>lotsizesquarefeet</td>\n",
       "      <td>0.19</td>\n",
       "    </tr>\n",
       "    <tr>\n",
       "      <th>6</th>\n",
       "      <td>yearbuilt</td>\n",
       "      <td>0.17</td>\n",
       "    </tr>\n",
       "    <tr>\n",
       "      <th>31</th>\n",
       "      <td>regionidzip</td>\n",
       "      <td>0.13</td>\n",
       "    </tr>\n",
       "    <tr>\n",
       "      <th>9</th>\n",
       "      <td>bathroomcnt</td>\n",
       "      <td>0.12</td>\n",
       "    </tr>\n",
       "    <tr>\n",
       "      <th>51</th>\n",
       "      <td>buildingclasstypeid</td>\n",
       "      <td>0.11</td>\n",
       "    </tr>\n",
       "    <tr>\n",
       "      <th>36</th>\n",
       "      <td>basementsqft</td>\n",
       "      <td>0.10</td>\n",
       "    </tr>\n",
       "    <tr>\n",
       "      <th>40</th>\n",
       "      <td>finishedsquarefeet15</td>\n",
       "      <td>0.09</td>\n",
       "    </tr>\n",
       "    <tr>\n",
       "      <th>16</th>\n",
       "      <td>finishedsquarefeet6</td>\n",
       "      <td>0.08</td>\n",
       "    </tr>\n",
       "    <tr>\n",
       "      <th>21</th>\n",
       "      <td>yardbuildingsqft17</td>\n",
       "      <td>0.08</td>\n",
       "    </tr>\n",
       "    <tr>\n",
       "      <th>12</th>\n",
       "      <td>finishedsquarefeet50</td>\n",
       "      <td>0.08</td>\n",
       "    </tr>\n",
       "    <tr>\n",
       "      <th>30</th>\n",
       "      <td>latitude</td>\n",
       "      <td>0.08</td>\n",
       "    </tr>\n",
       "    <tr>\n",
       "      <th>3</th>\n",
       "      <td>calculatedbathnbr</td>\n",
       "      <td>0.07</td>\n",
       "    </tr>\n",
       "    <tr>\n",
       "      <th>11</th>\n",
       "      <td>longitude</td>\n",
       "      <td>0.07</td>\n",
       "    </tr>\n",
       "    <tr>\n",
       "      <th>14</th>\n",
       "      <td>threequarterbathnbr</td>\n",
       "      <td>0.06</td>\n",
       "    </tr>\n",
       "    <tr>\n",
       "      <th>23</th>\n",
       "      <td>fullbathcnt</td>\n",
       "      <td>0.05</td>\n",
       "    </tr>\n",
       "    <tr>\n",
       "      <th>41</th>\n",
       "      <td>garagetotalsqft</td>\n",
       "      <td>0.05</td>\n",
       "    </tr>\n",
       "    <tr>\n",
       "      <th>43</th>\n",
       "      <td>finishedfloor1squarefeet</td>\n",
       "      <td>0.05</td>\n",
       "    </tr>\n",
       "    <tr>\n",
       "      <th>28</th>\n",
       "      <td>bedroomcnt</td>\n",
       "      <td>0.04</td>\n",
       "    </tr>\n",
       "    <tr>\n",
       "      <th>44</th>\n",
       "      <td>unitcnt</td>\n",
       "      <td>0.03</td>\n",
       "    </tr>\n",
       "    <tr>\n",
       "      <th>45</th>\n",
       "      <td>garagecarcnt</td>\n",
       "      <td>0.03</td>\n",
       "    </tr>\n",
       "    <tr>\n",
       "      <th>0</th>\n",
       "      <td>rawcensustractandblock</td>\n",
       "      <td>0.03</td>\n",
       "    </tr>\n",
       "    <tr>\n",
       "      <th>1</th>\n",
       "      <td>regionidneighborhood</td>\n",
       "      <td>0.03</td>\n",
       "    </tr>\n",
       "    <tr>\n",
       "      <th>7</th>\n",
       "      <td>finishedsquarefeet13</td>\n",
       "      <td>0.03</td>\n",
       "    </tr>\n",
       "    <tr>\n",
       "      <th>18</th>\n",
       "      <td>numberofstories</td>\n",
       "      <td>0.03</td>\n",
       "    </tr>\n",
       "    <tr>\n",
       "      <th>13</th>\n",
       "      <td>assessmentyear</td>\n",
       "      <td>0.03</td>\n",
       "    </tr>\n",
       "    <tr>\n",
       "      <th>24</th>\n",
       "      <td>regionidcity</td>\n",
       "      <td>0.02</td>\n",
       "    </tr>\n",
       "    <tr>\n",
       "      <th>32</th>\n",
       "      <td>roomcnt</td>\n",
       "      <td>0.02</td>\n",
       "    </tr>\n",
       "    <tr>\n",
       "      <th>33</th>\n",
       "      <td>fireplacecnt</td>\n",
       "      <td>0.02</td>\n",
       "    </tr>\n",
       "    <tr>\n",
       "      <th>25</th>\n",
       "      <td>poolsizesum</td>\n",
       "      <td>0.01</td>\n",
       "    </tr>\n",
       "    <tr>\n",
       "      <th>50</th>\n",
       "      <td>fips</td>\n",
       "      <td>0.01</td>\n",
       "    </tr>\n",
       "    <tr>\n",
       "      <th>2</th>\n",
       "      <td>buildingqualitytypeid</td>\n",
       "      <td>0.01</td>\n",
       "    </tr>\n",
       "    <tr>\n",
       "      <th>46</th>\n",
       "      <td>heatingorsystemtypeid</td>\n",
       "      <td>0.01</td>\n",
       "    </tr>\n",
       "    <tr>\n",
       "      <th>29</th>\n",
       "      <td>airconditioningtypeid</td>\n",
       "      <td>0.01</td>\n",
       "    </tr>\n",
       "    <tr>\n",
       "      <th>10</th>\n",
       "      <td>yardbuildingsqft26</td>\n",
       "      <td>0.01</td>\n",
       "    </tr>\n",
       "    <tr>\n",
       "      <th>49</th>\n",
       "      <td>poolcnt</td>\n",
       "      <td>0.00</td>\n",
       "    </tr>\n",
       "    <tr>\n",
       "      <th>47</th>\n",
       "      <td>pooltypeid10</td>\n",
       "      <td>0.00</td>\n",
       "    </tr>\n",
       "    <tr>\n",
       "      <th>4</th>\n",
       "      <td>pooltypeid7</td>\n",
       "      <td>0.00</td>\n",
       "    </tr>\n",
       "    <tr>\n",
       "      <th>15</th>\n",
       "      <td>storytypeid</td>\n",
       "      <td>0.00</td>\n",
       "    </tr>\n",
       "    <tr>\n",
       "      <th>8</th>\n",
       "      <td>decktypeid</td>\n",
       "      <td>0.00</td>\n",
       "    </tr>\n",
       "    <tr>\n",
       "      <th>39</th>\n",
       "      <td>fireplaceflag</td>\n",
       "      <td>0.00</td>\n",
       "    </tr>\n",
       "    <tr>\n",
       "      <th>17</th>\n",
       "      <td>propertylandusetypeid</td>\n",
       "      <td>0.00</td>\n",
       "    </tr>\n",
       "    <tr>\n",
       "      <th>19</th>\n",
       "      <td>pooltypeid2</td>\n",
       "      <td>0.00</td>\n",
       "    </tr>\n",
       "    <tr>\n",
       "      <th>20</th>\n",
       "      <td>hashottuborspa</td>\n",
       "      <td>0.00</td>\n",
       "    </tr>\n",
       "    <tr>\n",
       "      <th>34</th>\n",
       "      <td>architecturalstyletypeid</td>\n",
       "      <td>0.00</td>\n",
       "    </tr>\n",
       "    <tr>\n",
       "      <th>26</th>\n",
       "      <td>typeconstructiontypeid</td>\n",
       "      <td>0.00</td>\n",
       "    </tr>\n",
       "  </tbody>\n",
       "</table>\n",
       "</div>"
      ],
      "text/plain": [
       "                         Feature  Mean Ranking\n",
       "5              taxvaluedollarcnt          0.48\n",
       "27         landtaxvaluedollarcnt          0.42\n",
       "48    structuretaxvaluedollarcnt          0.34\n",
       "35          finishedsquarefeet12          0.31\n",
       "42                     taxamount          0.29\n",
       "38                regionidcounty          0.25\n",
       "37  calculatedfinishedsquarefeet          0.20\n",
       "22             lotsizesquarefeet          0.19\n",
       "6                      yearbuilt          0.17\n",
       "31                   regionidzip          0.13\n",
       "9                    bathroomcnt          0.12\n",
       "51           buildingclasstypeid          0.11\n",
       "36                  basementsqft          0.10\n",
       "40          finishedsquarefeet15          0.09\n",
       "16           finishedsquarefeet6          0.08\n",
       "21            yardbuildingsqft17          0.08\n",
       "12          finishedsquarefeet50          0.08\n",
       "30                      latitude          0.08\n",
       "3              calculatedbathnbr          0.07\n",
       "11                     longitude          0.07\n",
       "14           threequarterbathnbr          0.06\n",
       "23                   fullbathcnt          0.05\n",
       "41               garagetotalsqft          0.05\n",
       "43      finishedfloor1squarefeet          0.05\n",
       "28                    bedroomcnt          0.04\n",
       "44                       unitcnt          0.03\n",
       "45                  garagecarcnt          0.03\n",
       "0         rawcensustractandblock          0.03\n",
       "1           regionidneighborhood          0.03\n",
       "7           finishedsquarefeet13          0.03\n",
       "18               numberofstories          0.03\n",
       "13                assessmentyear          0.03\n",
       "24                  regionidcity          0.02\n",
       "32                       roomcnt          0.02\n",
       "33                  fireplacecnt          0.02\n",
       "25                   poolsizesum          0.01\n",
       "50                          fips          0.01\n",
       "2          buildingqualitytypeid          0.01\n",
       "46         heatingorsystemtypeid          0.01\n",
       "29         airconditioningtypeid          0.01\n",
       "10            yardbuildingsqft26          0.01\n",
       "49                       poolcnt          0.00\n",
       "47                  pooltypeid10          0.00\n",
       "4                    pooltypeid7          0.00\n",
       "15                   storytypeid          0.00\n",
       "8                     decktypeid          0.00\n",
       "39                 fireplaceflag          0.00\n",
       "17         propertylandusetypeid          0.00\n",
       "19                   pooltypeid2          0.00\n",
       "20                hashottuborspa          0.00\n",
       "34      architecturalstyletypeid          0.00\n",
       "26        typeconstructiontypeid          0.00"
      ]
     },
     "execution_count": 72,
     "metadata": {},
     "output_type": "execute_result"
    }
   ],
   "source": [
    "meanplot"
   ]
  },
  {
   "cell_type": "code",
   "execution_count": null,
   "metadata": {},
   "outputs": [],
   "source": []
  }
 ],
 "metadata": {
  "kernelspec": {
   "display_name": "Python 3",
   "language": "python",
   "name": "python3"
  },
  "language_info": {
   "codemirror_mode": {
    "name": "ipython",
    "version": 3
   },
   "file_extension": ".py",
   "mimetype": "text/x-python",
   "name": "python",
   "nbconvert_exporter": "python",
   "pygments_lexer": "ipython3",
   "version": "3.4.3"
  }
 },
 "nbformat": 4,
 "nbformat_minor": 2
}
