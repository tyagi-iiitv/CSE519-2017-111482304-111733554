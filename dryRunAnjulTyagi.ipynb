{
 "cells": [
  {
   "cell_type": "code",
   "execution_count": 1,
   "metadata": {},
   "outputs": [],
   "source": [
    "import pandas as pd\n",
    "import numpy as np"
   ]
  },
  {
   "cell_type": "markdown",
   "metadata": {},
   "source": [
    "### After feature selection, creating a list of columns which were selected"
   ]
  },
  {
   "cell_type": "code",
   "execution_count": 2,
   "metadata": {},
   "outputs": [],
   "source": [
    "cols_prop = ['taxvaluedollarcnt',\n",
    "              'landtaxvaluedollarcnt',\n",
    "              'structuretaxvaluedollarcnt',\n",
    "              'finishedsquarefeet12',\n",
    "              'taxamount',\n",
    "              'calculatedfinishedsquarefeet',\n",
    "              'lotsizesquarefeet',\n",
    "              'bathroomcnt',\n",
    "              'latitude',\n",
    "              'longitude',\n",
    "              'parcelid']"
   ]
  },
  {
   "cell_type": "markdown",
   "metadata": {},
   "source": [
    "#### Reading the columns from the files"
   ]
  },
  {
   "cell_type": "code",
   "execution_count": 3,
   "metadata": {},
   "outputs": [],
   "source": [
    "prop_2016 = pd.read_csv('data/properties_2016.csv', usecols=cols_prop)"
   ]
  },
  {
   "cell_type": "code",
   "execution_count": 4,
   "metadata": {},
   "outputs": [],
   "source": [
    "prop_2017 = pd.read_csv('data/properties_2017.csv', usecols=cols_prop)"
   ]
  },
  {
   "cell_type": "code",
   "execution_count": 5,
   "metadata": {},
   "outputs": [],
   "source": [
    "train_2016 = pd.read_csv('data/train_2016_v2.csv', usecols=['logerror', 'parcelid'])"
   ]
  },
  {
   "cell_type": "code",
   "execution_count": 6,
   "metadata": {},
   "outputs": [],
   "source": [
    "train_2017 = pd.read_csv('data/train_2017.csv', usecols=['logerror', 'parcelid'])"
   ]
  },
  {
   "cell_type": "markdown",
   "metadata": {},
   "source": [
    "### Reducing the size of dataframes"
   ]
  },
  {
   "cell_type": "markdown",
   "metadata": {},
   "source": [
    "#### Setting up functions"
   ]
  },
  {
   "cell_type": "code",
   "execution_count": 7,
   "metadata": {},
   "outputs": [],
   "source": [
    "def get_min_memory_type(colobj, verbose=0):\n",
    "    orig_type = colobj.dtype\n",
    "    new_types = [\"uint8\", \"int8\", \"uint16\", \"int16\", 'float16', \"uint32\", \"int32\", 'float32']\n",
    "    if (orig_type not in new_types and orig_type not in [\"int64\", \"uint64\", \"float64\"]):\n",
    "        if (verbose > 0):\n",
    "            print(\"Type {} of column {} is unsupported\".format(orig_type, colobj.name))\n",
    "        return orig_type\n",
    "\n",
    "    for new_type in new_types:\n",
    "        yes_min = colobj.min() == colobj.min().astype(new_type).astype(orig_type)\n",
    "        yes_max = colobj.max() == colobj.max().astype(new_type).astype(orig_type)\n",
    "        if (yes_min and yes_max):\n",
    "            return new_type\n",
    "\n",
    "    if (verbose > 0):\n",
    "        print(\"No optimisation found for {} column of {} type\".format(colobj.name, orig_type))\n",
    "    return orig_type\n",
    "\n",
    "\n",
    "def reduce_mem_usage(df, exclude=[], verbose=0):\n",
    "    start_mem_usg = df.memory_usage().sum() / 1024 ** 2\n",
    "    if (verbose > 0):\n",
    "        print(\"Memory usage before :\", start_mem_usg, \" MB\")\n",
    "\n",
    "    for colname in df.columns:\n",
    "        if (colname not in exclude):\n",
    "            colobj = getattr(df, colname)\n",
    "            new_type = get_min_memory_type(colobj, verbose)\n",
    "            if (new_type != colobj.dtype):\n",
    "                if (verbose > 0):\n",
    "                    print(\"Converting {} column from {} to {}\".format(colname, colobj.dtype, new_type))\n",
    "                df[colname] = df[colname].astype(new_type)\n",
    "\n",
    "    end_mem_usg = df.memory_usage().sum() / 1024 ** 2\n",
    "\n",
    "    if (verbose > 0):\n",
    "        print(\"Memory usage after :\", end_mem_usg, \" MB\")\n",
    "\n",
    "    mem_usg_diff_prc = float((end_mem_usg - start_mem_usg)) * 100 / start_mem_usg\n",
    "\n",
    "    if (verbose > 0):\n",
    "        if (end_mem_usg < start_mem_usg):\n",
    "            print(\"Memory gain: {0:0.2f}%\".format(-mem_usg_diff_prc))\n",
    "        else:\n",
    "            print(\"Memory loss: {0:0.2f}%\".format(mem_usg_diff_prc))\n",
    "\n",
    "    return -mem_usg_diff_prc\n",
    "\n",
    "def fillna_mean(df, cols):\n",
    "    for col in cols:\n",
    "        mean_values = df[[col]].mean(axis=0)\n",
    "#         print(col, mean_values[col])\n",
    "        df[col].fillna(mean_values[col], inplace=True)"
   ]
  },
  {
   "cell_type": "markdown",
   "metadata": {},
   "source": [
    "#### Filling the Nan with means"
   ]
  },
  {
   "cell_type": "code",
   "execution_count": 8,
   "metadata": {},
   "outputs": [],
   "source": [
    "fillna_mean(prop_2016, cols_prop)"
   ]
  },
  {
   "cell_type": "code",
   "execution_count": 9,
   "metadata": {},
   "outputs": [],
   "source": [
    "fillna_mean(prop_2017, cols_prop)"
   ]
  },
  {
   "cell_type": "markdown",
   "metadata": {},
   "source": [
    "#### Reduce the memory usage for properties file"
   ]
  },
  {
   "cell_type": "code",
   "execution_count": 10,
   "metadata": {},
   "outputs": [
    {
     "data": {
      "text/plain": [
       "48.863621483152272"
      ]
     },
     "execution_count": 10,
     "metadata": {},
     "output_type": "execute_result"
    }
   ],
   "source": [
    "reduce_mem_usage(prop_2016,[],0)"
   ]
  },
  {
   "cell_type": "code",
   "execution_count": 11,
   "metadata": {},
   "outputs": [
    {
     "data": {
      "text/plain": [
       "48.863621483152272"
      ]
     },
     "execution_count": 11,
     "metadata": {},
     "output_type": "execute_result"
    }
   ],
   "source": [
    "reduce_mem_usage(prop_2017,[],0)"
   ]
  },
  {
   "cell_type": "markdown",
   "metadata": {},
   "source": [
    "### Merging the properties with the train data"
   ]
  },
  {
   "cell_type": "code",
   "execution_count": 12,
   "metadata": {},
   "outputs": [
    {
     "data": {
      "text/plain": [
       "['taxvaluedollarcnt',\n",
       " 'landtaxvaluedollarcnt',\n",
       " 'structuretaxvaluedollarcnt',\n",
       " 'finishedsquarefeet12',\n",
       " 'taxamount',\n",
       " 'calculatedfinishedsquarefeet',\n",
       " 'lotsizesquarefeet',\n",
       " 'bathroomcnt',\n",
       " 'latitude',\n",
       " 'longitude',\n",
       " 'parcelid',\n",
       " 'logerror']"
      ]
     },
     "execution_count": 12,
     "metadata": {},
     "output_type": "execute_result"
    }
   ],
   "source": [
    "cols_prop.append('logerror')\n",
    "cols_prop"
   ]
  },
  {
   "cell_type": "code",
   "execution_count": 13,
   "metadata": {},
   "outputs": [],
   "source": [
    "prop16_train16 = pd.merge(train_2016,prop_2016, on='parcelid', how='left')\n",
    "prop16_train17 = pd.merge(train_2017,prop_2016, on='parcelid', how='left')\n",
    "prop17_train16 = pd.merge(train_2016,prop_2017, on='parcelid', how='left')\n",
    "prop17_train17 = pd.merge(train_2017,prop_2017, on='parcelid', how='left')"
   ]
  },
  {
   "cell_type": "code",
   "execution_count": 14,
   "metadata": {},
   "outputs": [
    {
     "data": {
      "text/html": [
       "<div>\n",
       "<style>\n",
       "    .dataframe thead tr:only-child th {\n",
       "        text-align: right;\n",
       "    }\n",
       "\n",
       "    .dataframe thead th {\n",
       "        text-align: left;\n",
       "    }\n",
       "\n",
       "    .dataframe tbody tr th {\n",
       "        vertical-align: top;\n",
       "    }\n",
       "</style>\n",
       "<table border=\"1\" class=\"dataframe\">\n",
       "  <thead>\n",
       "    <tr style=\"text-align: right;\">\n",
       "      <th></th>\n",
       "      <th>parcelid</th>\n",
       "      <th>logerror</th>\n",
       "      <th>bathroomcnt</th>\n",
       "      <th>calculatedfinishedsquarefeet</th>\n",
       "      <th>finishedsquarefeet12</th>\n",
       "      <th>latitude</th>\n",
       "      <th>longitude</th>\n",
       "      <th>lotsizesquarefeet</th>\n",
       "      <th>structuretaxvaluedollarcnt</th>\n",
       "      <th>taxvaluedollarcnt</th>\n",
       "      <th>landtaxvaluedollarcnt</th>\n",
       "      <th>taxamount</th>\n",
       "    </tr>\n",
       "  </thead>\n",
       "  <tbody>\n",
       "    <tr>\n",
       "      <th>0</th>\n",
       "      <td>11016594</td>\n",
       "      <td>0.0276</td>\n",
       "      <td>2</td>\n",
       "      <td>1684</td>\n",
       "      <td>1684</td>\n",
       "      <td>34280990</td>\n",
       "      <td>-118488536</td>\n",
       "      <td>7528</td>\n",
       "      <td>122754</td>\n",
       "      <td>360170</td>\n",
       "      <td>237416</td>\n",
       "      <td>6735.88</td>\n",
       "    </tr>\n",
       "    <tr>\n",
       "      <th>1</th>\n",
       "      <td>14366692</td>\n",
       "      <td>-0.1684</td>\n",
       "      <td>3</td>\n",
       "      <td>2263</td>\n",
       "      <td>2263</td>\n",
       "      <td>33668120</td>\n",
       "      <td>-117677556</td>\n",
       "      <td>3643</td>\n",
       "      <td>346458</td>\n",
       "      <td>585529</td>\n",
       "      <td>239071</td>\n",
       "      <td>10153.02</td>\n",
       "    </tr>\n",
       "    <tr>\n",
       "      <th>2</th>\n",
       "      <td>12098116</td>\n",
       "      <td>-0.0040</td>\n",
       "      <td>3</td>\n",
       "      <td>2217</td>\n",
       "      <td>2217</td>\n",
       "      <td>34136312</td>\n",
       "      <td>-118175032</td>\n",
       "      <td>11423</td>\n",
       "      <td>61994</td>\n",
       "      <td>119906</td>\n",
       "      <td>57912</td>\n",
       "      <td>11484.48</td>\n",
       "    </tr>\n",
       "    <tr>\n",
       "      <th>3</th>\n",
       "      <td>12643413</td>\n",
       "      <td>0.0218</td>\n",
       "      <td>2</td>\n",
       "      <td>839</td>\n",
       "      <td>839</td>\n",
       "      <td>33755800</td>\n",
       "      <td>-118309000</td>\n",
       "      <td>70859</td>\n",
       "      <td>171518</td>\n",
       "      <td>244880</td>\n",
       "      <td>73362</td>\n",
       "      <td>3048.74</td>\n",
       "    </tr>\n",
       "    <tr>\n",
       "      <th>4</th>\n",
       "      <td>14432541</td>\n",
       "      <td>-0.0050</td>\n",
       "      <td>2</td>\n",
       "      <td>2283</td>\n",
       "      <td>2283</td>\n",
       "      <td>33485643</td>\n",
       "      <td>-117700234</td>\n",
       "      <td>6000</td>\n",
       "      <td>169574</td>\n",
       "      <td>434551</td>\n",
       "      <td>264977</td>\n",
       "      <td>5488.96</td>\n",
       "    </tr>\n",
       "  </tbody>\n",
       "</table>\n",
       "</div>"
      ],
      "text/plain": [
       "   parcelid  logerror  bathroomcnt  calculatedfinishedsquarefeet  \\\n",
       "0  11016594    0.0276            2                          1684   \n",
       "1  14366692   -0.1684            3                          2263   \n",
       "2  12098116   -0.0040            3                          2217   \n",
       "3  12643413    0.0218            2                           839   \n",
       "4  14432541   -0.0050            2                          2283   \n",
       "\n",
       "   finishedsquarefeet12  latitude  longitude  lotsizesquarefeet  \\\n",
       "0                  1684  34280990 -118488536               7528   \n",
       "1                  2263  33668120 -117677556               3643   \n",
       "2                  2217  34136312 -118175032              11423   \n",
       "3                   839  33755800 -118309000              70859   \n",
       "4                  2283  33485643 -117700234               6000   \n",
       "\n",
       "   structuretaxvaluedollarcnt  taxvaluedollarcnt  landtaxvaluedollarcnt  \\\n",
       "0                      122754             360170                 237416   \n",
       "1                      346458             585529                 239071   \n",
       "2                       61994             119906                  57912   \n",
       "3                      171518             244880                  73362   \n",
       "4                      169574             434551                 264977   \n",
       "\n",
       "   taxamount  \n",
       "0    6735.88  \n",
       "1   10153.02  \n",
       "2   11484.48  \n",
       "3    3048.74  \n",
       "4    5488.96  "
      ]
     },
     "execution_count": 14,
     "metadata": {},
     "output_type": "execute_result"
    }
   ],
   "source": [
    "prop16_train16.head()"
   ]
  },
  {
   "cell_type": "markdown",
   "metadata": {},
   "source": [
    "### Normalizing the data with min_max_scalar"
   ]
  },
  {
   "cell_type": "code",
   "execution_count": 15,
   "metadata": {},
   "outputs": [],
   "source": [
    "from sklearn.preprocessing import MinMaxScaler\n",
    "min_max_scalar = MinMaxScaler()"
   ]
  },
  {
   "cell_type": "code",
   "execution_count": 16,
   "metadata": {},
   "outputs": [],
   "source": [
    "prop16_train16[cols_prop] = min_max_scalar.fit_transform(prop16_train16[cols_prop])"
   ]
  },
  {
   "cell_type": "code",
   "execution_count": 17,
   "metadata": {},
   "outputs": [],
   "source": [
    "prop16_train17[cols_prop] = min_max_scalar.fit_transform(prop16_train17[cols_prop])"
   ]
  },
  {
   "cell_type": "code",
   "execution_count": 18,
   "metadata": {},
   "outputs": [],
   "source": [
    "prop17_train16[cols_prop] = min_max_scalar.fit_transform(prop17_train16[cols_prop])"
   ]
  },
  {
   "cell_type": "code",
   "execution_count": 19,
   "metadata": {},
   "outputs": [],
   "source": [
    "prop17_train17[cols_prop] = min_max_scalar.fit_transform(prop17_train17[cols_prop])"
   ]
  },
  {
   "cell_type": "code",
   "execution_count": 20,
   "metadata": {},
   "outputs": [
    {
     "data": {
      "text/html": [
       "<div>\n",
       "<style>\n",
       "    .dataframe thead tr:only-child th {\n",
       "        text-align: right;\n",
       "    }\n",
       "\n",
       "    .dataframe thead th {\n",
       "        text-align: left;\n",
       "    }\n",
       "\n",
       "    .dataframe tbody tr th {\n",
       "        vertical-align: top;\n",
       "    }\n",
       "</style>\n",
       "<table border=\"1\" class=\"dataframe\">\n",
       "  <thead>\n",
       "    <tr style=\"text-align: right;\">\n",
       "      <th></th>\n",
       "      <th>parcelid</th>\n",
       "      <th>logerror</th>\n",
       "      <th>bathroomcnt</th>\n",
       "      <th>calculatedfinishedsquarefeet</th>\n",
       "      <th>finishedsquarefeet12</th>\n",
       "      <th>latitude</th>\n",
       "      <th>longitude</th>\n",
       "      <th>lotsizesquarefeet</th>\n",
       "      <th>structuretaxvaluedollarcnt</th>\n",
       "      <th>taxvaluedollarcnt</th>\n",
       "      <th>landtaxvaluedollarcnt</th>\n",
       "      <th>taxamount</th>\n",
       "    </tr>\n",
       "  </thead>\n",
       "  <tbody>\n",
       "    <tr>\n",
       "      <th>0</th>\n",
       "      <td>0.002002</td>\n",
       "      <td>0.495890</td>\n",
       "      <td>0.10</td>\n",
       "      <td>0.073970</td>\n",
       "      <td>0.084054</td>\n",
       "      <td>0.637696</td>\n",
       "      <td>0.506793</td>\n",
       "      <td>0.001056</td>\n",
       "      <td>0.012330</td>\n",
       "      <td>0.012978</td>\n",
       "      <td>0.009690</td>\n",
       "      <td>0.020774</td>\n",
       "    </tr>\n",
       "    <tr>\n",
       "      <th>1</th>\n",
       "      <td>0.024006</td>\n",
       "      <td>0.474909</td>\n",
       "      <td>0.15</td>\n",
       "      <td>0.099433</td>\n",
       "      <td>0.112988</td>\n",
       "      <td>0.222673</td>\n",
       "      <td>0.935216</td>\n",
       "      <td>0.000499</td>\n",
       "      <td>0.034817</td>\n",
       "      <td>0.021099</td>\n",
       "      <td>0.009757</td>\n",
       "      <td>0.031390</td>\n",
       "    </tr>\n",
       "    <tr>\n",
       "      <th>2</th>\n",
       "      <td>0.009106</td>\n",
       "      <td>0.492507</td>\n",
       "      <td>0.15</td>\n",
       "      <td>0.097410</td>\n",
       "      <td>0.110689</td>\n",
       "      <td>0.539723</td>\n",
       "      <td>0.672410</td>\n",
       "      <td>0.001615</td>\n",
       "      <td>0.006222</td>\n",
       "      <td>0.004320</td>\n",
       "      <td>0.002363</td>\n",
       "      <td>0.035526</td>\n",
       "    </tr>\n",
       "    <tr>\n",
       "      <th>3</th>\n",
       "      <td>0.012688</td>\n",
       "      <td>0.495269</td>\n",
       "      <td>0.10</td>\n",
       "      <td>0.036809</td>\n",
       "      <td>0.041827</td>\n",
       "      <td>0.282049</td>\n",
       "      <td>0.601638</td>\n",
       "      <td>0.010141</td>\n",
       "      <td>0.017231</td>\n",
       "      <td>0.008824</td>\n",
       "      <td>0.002993</td>\n",
       "      <td>0.009319</td>\n",
       "    </tr>\n",
       "    <tr>\n",
       "      <th>4</th>\n",
       "      <td>0.024439</td>\n",
       "      <td>0.492400</td>\n",
       "      <td>0.10</td>\n",
       "      <td>0.100312</td>\n",
       "      <td>0.113987</td>\n",
       "      <td>0.099104</td>\n",
       "      <td>0.923236</td>\n",
       "      <td>0.000837</td>\n",
       "      <td>0.017036</td>\n",
       "      <td>0.015659</td>\n",
       "      <td>0.010814</td>\n",
       "      <td>0.016900</td>\n",
       "    </tr>\n",
       "  </tbody>\n",
       "</table>\n",
       "</div>"
      ],
      "text/plain": [
       "   parcelid  logerror  bathroomcnt  calculatedfinishedsquarefeet  \\\n",
       "0  0.002002  0.495890         0.10                      0.073970   \n",
       "1  0.024006  0.474909         0.15                      0.099433   \n",
       "2  0.009106  0.492507         0.15                      0.097410   \n",
       "3  0.012688  0.495269         0.10                      0.036809   \n",
       "4  0.024439  0.492400         0.10                      0.100312   \n",
       "\n",
       "   finishedsquarefeet12  latitude  longitude  lotsizesquarefeet  \\\n",
       "0              0.084054  0.637696   0.506793           0.001056   \n",
       "1              0.112988  0.222673   0.935216           0.000499   \n",
       "2              0.110689  0.539723   0.672410           0.001615   \n",
       "3              0.041827  0.282049   0.601638           0.010141   \n",
       "4              0.113987  0.099104   0.923236           0.000837   \n",
       "\n",
       "   structuretaxvaluedollarcnt  taxvaluedollarcnt  landtaxvaluedollarcnt  \\\n",
       "0                    0.012330           0.012978               0.009690   \n",
       "1                    0.034817           0.021099               0.009757   \n",
       "2                    0.006222           0.004320               0.002363   \n",
       "3                    0.017231           0.008824               0.002993   \n",
       "4                    0.017036           0.015659               0.010814   \n",
       "\n",
       "   taxamount  \n",
       "0   0.020774  \n",
       "1   0.031390  \n",
       "2   0.035526  \n",
       "3   0.009319  \n",
       "4   0.016900  "
      ]
     },
     "execution_count": 20,
     "metadata": {},
     "output_type": "execute_result"
    }
   ],
   "source": [
    "prop16_train16.head()"
   ]
  },
  {
   "cell_type": "markdown",
   "metadata": {},
   "source": [
    "### Preparing the training and testing set"
   ]
  },
  {
   "cell_type": "code",
   "execution_count": 21,
   "metadata": {},
   "outputs": [],
   "source": [
    "test1 = prop16_train16.iloc[0:9000]\n",
    "test2 = prop16_train17.iloc[7000:14000]\n",
    "test3 = prop17_train16.iloc[18000:27000]\n",
    "test4 = prop17_train17.iloc[21000:28000]"
   ]
  },
  {
   "cell_type": "code",
   "execution_count": 22,
   "metadata": {},
   "outputs": [],
   "source": [
    "train1 = prop16_train16.drop(prop16_train16.index[0:9000])\n",
    "train2 = prop16_train17.drop(prop16_train17.index[7000:14000])\n",
    "train3 = prop17_train16.drop(prop17_train16.index[18000:27000])\n",
    "train4 = prop17_train17.drop(prop17_train17.index[21000:28000])"
   ]
  },
  {
   "cell_type": "markdown",
   "metadata": {},
   "source": [
    "### Training the data"
   ]
  },
  {
   "cell_type": "code",
   "execution_count": 95,
   "metadata": {},
   "outputs": [],
   "source": [
    "def build_model():\n",
    "    global xgb_params\n",
    "    xgb_params = {\n",
    "        'eta': 0.007,\n",
    "        'max_depth': 6, \n",
    "        'subsample': 0.6,\n",
    "        'objective': 'reg:linear',\n",
    "        'eval_metric': 'mae',\n",
    "        'lambda': 9.0,\n",
    "        'alpha': 0.8,\n",
    "        'colsample_bytree': 0.7,\n",
    "        'silent': 1\n",
    "    }"
   ]
  },
  {
   "cell_type": "code",
   "execution_count": 96,
   "metadata": {},
   "outputs": [],
   "source": [
    "build_model()"
   ]
  },
  {
   "cell_type": "markdown",
   "metadata": {},
   "source": [
    "#### Preparing the training matrices"
   ]
  },
  {
   "cell_type": "code",
   "execution_count": 25,
   "metadata": {},
   "outputs": [],
   "source": [
    "x_train1 = train1.drop('parcelid', axis=1)\n",
    "x_train2 = train2.drop('parcelid', axis=1)\n",
    "x_train3 = train3.drop('parcelid', axis=1)\n",
    "x_train4 = train4.drop('parcelid', axis=1)"
   ]
  },
  {
   "cell_type": "markdown",
   "metadata": {},
   "source": [
    "#### Removing the left out Nan values"
   ]
  },
  {
   "cell_type": "code",
   "execution_count": 26,
   "metadata": {},
   "outputs": [],
   "source": [
    "x_train1 = x_train1.dropna(axis=0, how='any')\n",
    "x_train2 = x_train2.dropna(axis=0, how='any')\n",
    "x_train3 = x_train3.dropna(axis=0, how='any')\n",
    "x_train4 = x_train4.dropna(axis=0, how='any')"
   ]
  },
  {
   "cell_type": "markdown",
   "metadata": {},
   "source": [
    "#### Preparing the final matrices for the model"
   ]
  },
  {
   "cell_type": "code",
   "execution_count": 137,
   "metadata": {},
   "outputs": [],
   "source": [
    "Y1 = x_train1['logerror'].values\n",
    "Y2 = x_train2['logerror'].values\n",
    "Y3 = x_train3['logerror'].values\n",
    "Y4 = x_train4['logerror'].values\n",
    "X1 = x_train1.drop(['logerror'], axis=1).as_matrix()\n",
    "X2 = x_train2.drop(['logerror'], axis=1).as_matrix()\n",
    "X3 = x_train3.drop(['logerror'], axis=1).as_matrix()\n",
    "X4 = x_train4.drop(['logerror'], axis=1).as_matrix()"
   ]
  },
  {
   "cell_type": "code",
   "execution_count": null,
   "metadata": {},
   "outputs": [],
   "source": []
  },
  {
   "cell_type": "markdown",
   "metadata": {},
   "source": [
    "### Training the data"
   ]
  },
  {
   "cell_type": "code",
   "execution_count": 28,
   "metadata": {},
   "outputs": [],
   "source": [
    "import warnings\n",
    "def ignore_warn(*args, **kwargs):\n",
    "    pass\n",
    "warnings.warn = ignore_warn #ignore annoying warning"
   ]
  },
  {
   "cell_type": "code",
   "execution_count": 29,
   "metadata": {},
   "outputs": [],
   "source": [
    "import xgboost as xgb"
   ]
  },
  {
   "cell_type": "code",
   "execution_count": 138,
   "metadata": {},
   "outputs": [],
   "source": [
    "X = np.concatenate((X1,X2,X3,X4), axis=0)\n",
    "Y = np.concatenate((Y1,Y2,Y3,Y4), axis=0)"
   ]
  },
  {
   "cell_type": "code",
   "execution_count": 139,
   "metadata": {},
   "outputs": [
    {
     "data": {
      "text/plain": [
       "(303776,)"
      ]
     },
     "execution_count": 139,
     "metadata": {},
     "output_type": "execute_result"
    }
   ],
   "source": [
    "Y.shape"
   ]
  },
  {
   "cell_type": "code",
   "execution_count": 140,
   "metadata": {},
   "outputs": [],
   "source": [
    "XDB = xgb.DMatrix(X, label=Y)"
   ]
  },
  {
   "cell_type": "code",
   "execution_count": 89,
   "metadata": {},
   "outputs": [],
   "source": [
    "evals = [(XDB,'train'),(XDB,'valid')]"
   ]
  },
  {
   "cell_type": "code",
   "execution_count": 73,
   "metadata": {
    "collapsed": true
   },
   "outputs": [
    {
     "name": "stdout",
     "output_type": "stream",
     "text": [
      "[0]\ttrain-mae:0.019558\tvalid-mae:0.019558\n",
      "Multiple eval metrics have been passed: 'valid-mae' will be used for early stopping.\n",
      "\n",
      "Will train until valid-mae hasn't improved in 100 rounds.\n",
      "[10]\ttrain-mae:0.018576\tvalid-mae:0.018576\n",
      "[20]\ttrain-mae:0.017658\tvalid-mae:0.017658\n",
      "[30]\ttrain-mae:0.01681\tvalid-mae:0.01681\n",
      "[40]\ttrain-mae:0.016025\tvalid-mae:0.016025\n",
      "[50]\ttrain-mae:0.015303\tvalid-mae:0.015303\n",
      "[60]\ttrain-mae:0.01465\tvalid-mae:0.01465\n",
      "[70]\ttrain-mae:0.014036\tvalid-mae:0.014036\n",
      "[80]\ttrain-mae:0.013475\tvalid-mae:0.013475\n",
      "[90]\ttrain-mae:0.012953\tvalid-mae:0.012953\n",
      "[100]\ttrain-mae:0.012466\tvalid-mae:0.012466\n",
      "[110]\ttrain-mae:0.012032\tvalid-mae:0.012032\n",
      "[120]\ttrain-mae:0.011618\tvalid-mae:0.011618\n",
      "[130]\ttrain-mae:0.011243\tvalid-mae:0.011243\n",
      "[140]\ttrain-mae:0.010906\tvalid-mae:0.010906\n",
      "[150]\ttrain-mae:0.010596\tvalid-mae:0.010596\n",
      "[160]\ttrain-mae:0.010302\tvalid-mae:0.010302\n",
      "[170]\ttrain-mae:0.010041\tvalid-mae:0.010041\n",
      "[180]\ttrain-mae:0.009798\tvalid-mae:0.009798\n",
      "[190]\ttrain-mae:0.00957\tvalid-mae:0.00957\n",
      "[200]\ttrain-mae:0.009366\tvalid-mae:0.009366\n",
      "[210]\ttrain-mae:0.009187\tvalid-mae:0.009187\n",
      "[220]\ttrain-mae:0.009006\tvalid-mae:0.009006\n",
      "[230]\ttrain-mae:0.008844\tvalid-mae:0.008844\n",
      "[240]\ttrain-mae:0.0087\tvalid-mae:0.0087\n",
      "[250]\ttrain-mae:0.008563\tvalid-mae:0.008563\n",
      "[260]\ttrain-mae:0.008438\tvalid-mae:0.008438\n",
      "[270]\ttrain-mae:0.008324\tvalid-mae:0.008324\n",
      "[280]\ttrain-mae:0.008222\tvalid-mae:0.008222\n",
      "[290]\ttrain-mae:0.008128\tvalid-mae:0.008128\n",
      "[300]\ttrain-mae:0.008047\tvalid-mae:0.008047\n",
      "[310]\ttrain-mae:0.00797\tvalid-mae:0.00797\n",
      "[320]\ttrain-mae:0.007898\tvalid-mae:0.007898\n",
      "[330]\ttrain-mae:0.007834\tvalid-mae:0.007834\n",
      "[340]\ttrain-mae:0.007775\tvalid-mae:0.007775\n",
      "[350]\ttrain-mae:0.007724\tvalid-mae:0.007724\n",
      "[360]\ttrain-mae:0.007677\tvalid-mae:0.007677\n",
      "[370]\ttrain-mae:0.007634\tvalid-mae:0.007634\n",
      "[380]\ttrain-mae:0.007593\tvalid-mae:0.007593\n",
      "[390]\ttrain-mae:0.007558\tvalid-mae:0.007558\n",
      "[400]\ttrain-mae:0.007526\tvalid-mae:0.007526\n",
      "[410]\ttrain-mae:0.007497\tvalid-mae:0.007497\n",
      "[420]\ttrain-mae:0.00747\tvalid-mae:0.00747\n",
      "[430]\ttrain-mae:0.007445\tvalid-mae:0.007445\n",
      "[440]\ttrain-mae:0.007423\tvalid-mae:0.007423\n",
      "[450]\ttrain-mae:0.007404\tvalid-mae:0.007404\n",
      "[460]\ttrain-mae:0.007386\tvalid-mae:0.007386\n",
      "[470]\ttrain-mae:0.00737\tvalid-mae:0.00737\n",
      "[480]\ttrain-mae:0.007356\tvalid-mae:0.007356\n",
      "[490]\ttrain-mae:0.007341\tvalid-mae:0.007341\n",
      "[500]\ttrain-mae:0.007329\tvalid-mae:0.007329\n",
      "[510]\ttrain-mae:0.007318\tvalid-mae:0.007318\n",
      "[520]\ttrain-mae:0.007307\tvalid-mae:0.007307\n",
      "[530]\ttrain-mae:0.007298\tvalid-mae:0.007298\n",
      "[540]\ttrain-mae:0.007289\tvalid-mae:0.007289\n",
      "[550]\ttrain-mae:0.007281\tvalid-mae:0.007281\n",
      "[560]\ttrain-mae:0.007275\tvalid-mae:0.007275\n",
      "[570]\ttrain-mae:0.007269\tvalid-mae:0.007269\n",
      "[580]\ttrain-mae:0.007262\tvalid-mae:0.007262\n",
      "[590]\ttrain-mae:0.007256\tvalid-mae:0.007256\n",
      "[600]\ttrain-mae:0.007251\tvalid-mae:0.007251\n",
      "[610]\ttrain-mae:0.007246\tvalid-mae:0.007246\n",
      "[620]\ttrain-mae:0.007242\tvalid-mae:0.007242\n",
      "[630]\ttrain-mae:0.007238\tvalid-mae:0.007238\n",
      "[640]\ttrain-mae:0.007234\tvalid-mae:0.007234\n",
      "[650]\ttrain-mae:0.007231\tvalid-mae:0.007231\n",
      "[660]\ttrain-mae:0.007227\tvalid-mae:0.007227\n",
      "[670]\ttrain-mae:0.007224\tvalid-mae:0.007224\n",
      "[680]\ttrain-mae:0.007222\tvalid-mae:0.007222\n",
      "[690]\ttrain-mae:0.007219\tvalid-mae:0.007219\n",
      "[700]\ttrain-mae:0.007217\tvalid-mae:0.007217\n",
      "[710]\ttrain-mae:0.007214\tvalid-mae:0.007214\n",
      "[720]\ttrain-mae:0.007212\tvalid-mae:0.007212\n",
      "[730]\ttrain-mae:0.00721\tvalid-mae:0.00721\n",
      "[740]\ttrain-mae:0.007208\tvalid-mae:0.007208\n",
      "[750]\ttrain-mae:0.007206\tvalid-mae:0.007206\n",
      "[760]\ttrain-mae:0.007205\tvalid-mae:0.007205\n",
      "[770]\ttrain-mae:0.007203\tvalid-mae:0.007203\n",
      "[780]\ttrain-mae:0.007201\tvalid-mae:0.007201\n",
      "[790]\ttrain-mae:0.0072\tvalid-mae:0.0072\n",
      "[800]\ttrain-mae:0.007198\tvalid-mae:0.007198\n",
      "[810]\ttrain-mae:0.007197\tvalid-mae:0.007197\n",
      "[820]\ttrain-mae:0.007196\tvalid-mae:0.007196\n",
      "[830]\ttrain-mae:0.007194\tvalid-mae:0.007194\n",
      "[840]\ttrain-mae:0.007194\tvalid-mae:0.007194\n",
      "[850]\ttrain-mae:0.007193\tvalid-mae:0.007193\n",
      "[860]\ttrain-mae:0.007192\tvalid-mae:0.007192\n",
      "[870]\ttrain-mae:0.007191\tvalid-mae:0.007191\n",
      "[880]\ttrain-mae:0.00719\tvalid-mae:0.00719\n",
      "[890]\ttrain-mae:0.007189\tvalid-mae:0.007189\n",
      "[900]\ttrain-mae:0.007188\tvalid-mae:0.007188\n",
      "[910]\ttrain-mae:0.007187\tvalid-mae:0.007187\n",
      "[920]\ttrain-mae:0.007186\tvalid-mae:0.007186\n",
      "[930]\ttrain-mae:0.007185\tvalid-mae:0.007185\n",
      "[940]\ttrain-mae:0.007184\tvalid-mae:0.007184\n",
      "[950]\ttrain-mae:0.007183\tvalid-mae:0.007183\n",
      "[960]\ttrain-mae:0.007183\tvalid-mae:0.007183\n",
      "[970]\ttrain-mae:0.007182\tvalid-mae:0.007182\n",
      "[980]\ttrain-mae:0.007181\tvalid-mae:0.007181\n",
      "[990]\ttrain-mae:0.007181\tvalid-mae:0.007181\n",
      "[1000]\ttrain-mae:0.00718\tvalid-mae:0.00718\n",
      "[1010]\ttrain-mae:0.007179\tvalid-mae:0.007179\n",
      "[1020]\ttrain-mae:0.007179\tvalid-mae:0.007179\n",
      "[1030]\ttrain-mae:0.007178\tvalid-mae:0.007178\n",
      "[1040]\ttrain-mae:0.007178\tvalid-mae:0.007178\n",
      "[1050]\ttrain-mae:0.007177\tvalid-mae:0.007177\n",
      "[1060]\ttrain-mae:0.007176\tvalid-mae:0.007176\n",
      "[1070]\ttrain-mae:0.007176\tvalid-mae:0.007176\n",
      "[1080]\ttrain-mae:0.007175\tvalid-mae:0.007175\n",
      "[1090]\ttrain-mae:0.007175\tvalid-mae:0.007175\n",
      "[1100]\ttrain-mae:0.007174\tvalid-mae:0.007174\n",
      "[1110]\ttrain-mae:0.007174\tvalid-mae:0.007174\n",
      "[1120]\ttrain-mae:0.007173\tvalid-mae:0.007173\n",
      "[1130]\ttrain-mae:0.007172\tvalid-mae:0.007172\n",
      "[1140]\ttrain-mae:0.007172\tvalid-mae:0.007172\n",
      "[1150]\ttrain-mae:0.007172\tvalid-mae:0.007172\n",
      "[1160]\ttrain-mae:0.007171\tvalid-mae:0.007171\n",
      "[1170]\ttrain-mae:0.007171\tvalid-mae:0.007171\n",
      "[1180]\ttrain-mae:0.007171\tvalid-mae:0.007171\n",
      "[1190]\ttrain-mae:0.00717\tvalid-mae:0.00717\n",
      "[1200]\ttrain-mae:0.00717\tvalid-mae:0.00717\n",
      "[1210]\ttrain-mae:0.007169\tvalid-mae:0.007169\n",
      "[1220]\ttrain-mae:0.007169\tvalid-mae:0.007169\n",
      "[1230]\ttrain-mae:0.007168\tvalid-mae:0.007168\n",
      "[1240]\ttrain-mae:0.007168\tvalid-mae:0.007168\n",
      "[1250]\ttrain-mae:0.007167\tvalid-mae:0.007167\n",
      "[1260]\ttrain-mae:0.007167\tvalid-mae:0.007167\n",
      "[1270]\ttrain-mae:0.007166\tvalid-mae:0.007166\n",
      "[1280]\ttrain-mae:0.007166\tvalid-mae:0.007166\n",
      "[1290]\ttrain-mae:0.007166\tvalid-mae:0.007166\n",
      "[1300]\ttrain-mae:0.007165\tvalid-mae:0.007165\n",
      "[1310]\ttrain-mae:0.007165\tvalid-mae:0.007165\n",
      "[1320]\ttrain-mae:0.007164\tvalid-mae:0.007164\n",
      "[1330]\ttrain-mae:0.007164\tvalid-mae:0.007164\n",
      "[1340]\ttrain-mae:0.007163\tvalid-mae:0.007163\n",
      "[1350]\ttrain-mae:0.007163\tvalid-mae:0.007163\n",
      "[1360]\ttrain-mae:0.007162\tvalid-mae:0.007162\n",
      "[1370]\ttrain-mae:0.007162\tvalid-mae:0.007162\n",
      "[1380]\ttrain-mae:0.007162\tvalid-mae:0.007162\n",
      "[1390]\ttrain-mae:0.007161\tvalid-mae:0.007161\n",
      "[1400]\ttrain-mae:0.007161\tvalid-mae:0.007161\n",
      "[1410]\ttrain-mae:0.007161\tvalid-mae:0.007161\n",
      "[1420]\ttrain-mae:0.00716\tvalid-mae:0.00716\n",
      "[1430]\ttrain-mae:0.00716\tvalid-mae:0.00716\n",
      "[1440]\ttrain-mae:0.00716\tvalid-mae:0.00716\n",
      "[1450]\ttrain-mae:0.007159\tvalid-mae:0.007159\n",
      "[1460]\ttrain-mae:0.007159\tvalid-mae:0.007159\n",
      "[1470]\ttrain-mae:0.007159\tvalid-mae:0.007159\n",
      "[1480]\ttrain-mae:0.007159\tvalid-mae:0.007159\n",
      "[1490]\ttrain-mae:0.007158\tvalid-mae:0.007158\n",
      "[1500]\ttrain-mae:0.007158\tvalid-mae:0.007158\n",
      "[1510]\ttrain-mae:0.007158\tvalid-mae:0.007158\n",
      "[1520]\ttrain-mae:0.007157\tvalid-mae:0.007157\n",
      "[1530]\ttrain-mae:0.007157\tvalid-mae:0.007157\n",
      "[1540]\ttrain-mae:0.007157\tvalid-mae:0.007157\n",
      "[1550]\ttrain-mae:0.007157\tvalid-mae:0.007157\n",
      "[1560]\ttrain-mae:0.007156\tvalid-mae:0.007156\n",
      "[1570]\ttrain-mae:0.007156\tvalid-mae:0.007156\n",
      "[1580]\ttrain-mae:0.007156\tvalid-mae:0.007156\n",
      "[1590]\ttrain-mae:0.007155\tvalid-mae:0.007155\n",
      "[1600]\ttrain-mae:0.007155\tvalid-mae:0.007155\n",
      "[1610]\ttrain-mae:0.007155\tvalid-mae:0.007155\n",
      "[1620]\ttrain-mae:0.007154\tvalid-mae:0.007154\n",
      "[1630]\ttrain-mae:0.007154\tvalid-mae:0.007154\n",
      "[1640]\ttrain-mae:0.007154\tvalid-mae:0.007154\n",
      "[1650]\ttrain-mae:0.007153\tvalid-mae:0.007153\n",
      "[1660]\ttrain-mae:0.007153\tvalid-mae:0.007153\n",
      "[1670]\ttrain-mae:0.007152\tvalid-mae:0.007152\n",
      "[1680]\ttrain-mae:0.007152\tvalid-mae:0.007152\n",
      "[1690]\ttrain-mae:0.007152\tvalid-mae:0.007152\n",
      "[1700]\ttrain-mae:0.007152\tvalid-mae:0.007152\n",
      "[1710]\ttrain-mae:0.007151\tvalid-mae:0.007151\n",
      "[1720]\ttrain-mae:0.007151\tvalid-mae:0.007151\n",
      "[1730]\ttrain-mae:0.007151\tvalid-mae:0.007151\n",
      "[1740]\ttrain-mae:0.00715\tvalid-mae:0.00715\n",
      "[1750]\ttrain-mae:0.00715\tvalid-mae:0.00715\n",
      "[1760]\ttrain-mae:0.00715\tvalid-mae:0.00715\n",
      "[1770]\ttrain-mae:0.007149\tvalid-mae:0.007149\n",
      "[1780]\ttrain-mae:0.007149\tvalid-mae:0.007149\n",
      "[1790]\ttrain-mae:0.007149\tvalid-mae:0.007149\n",
      "[1800]\ttrain-mae:0.007148\tvalid-mae:0.007148\n",
      "[1810]\ttrain-mae:0.007148\tvalid-mae:0.007148\n",
      "[1820]\ttrain-mae:0.007148\tvalid-mae:0.007148\n"
     ]
    },
    {
     "name": "stdout",
     "output_type": "stream",
     "text": [
      "[1830]\ttrain-mae:0.007148\tvalid-mae:0.007148\n",
      "[1840]\ttrain-mae:0.007148\tvalid-mae:0.007148\n",
      "[1850]\ttrain-mae:0.007147\tvalid-mae:0.007147\n",
      "[1860]\ttrain-mae:0.007147\tvalid-mae:0.007147\n",
      "[1870]\ttrain-mae:0.007146\tvalid-mae:0.007146\n",
      "[1880]\ttrain-mae:0.007146\tvalid-mae:0.007146\n",
      "[1890]\ttrain-mae:0.007146\tvalid-mae:0.007146\n",
      "[1900]\ttrain-mae:0.007146\tvalid-mae:0.007146\n",
      "[1910]\ttrain-mae:0.007145\tvalid-mae:0.007145\n",
      "[1920]\ttrain-mae:0.007145\tvalid-mae:0.007145\n",
      "[1930]\ttrain-mae:0.007145\tvalid-mae:0.007145\n",
      "[1940]\ttrain-mae:0.007144\tvalid-mae:0.007144\n",
      "[1950]\ttrain-mae:0.007144\tvalid-mae:0.007144\n",
      "[1960]\ttrain-mae:0.007144\tvalid-mae:0.007144\n",
      "[1970]\ttrain-mae:0.007143\tvalid-mae:0.007143\n",
      "[1980]\ttrain-mae:0.007143\tvalid-mae:0.007143\n",
      "[1990]\ttrain-mae:0.007143\tvalid-mae:0.007143\n",
      "[2000]\ttrain-mae:0.007143\tvalid-mae:0.007143\n",
      "[2010]\ttrain-mae:0.007142\tvalid-mae:0.007142\n",
      "[2020]\ttrain-mae:0.007142\tvalid-mae:0.007142\n",
      "[2030]\ttrain-mae:0.007142\tvalid-mae:0.007142\n",
      "[2040]\ttrain-mae:0.007142\tvalid-mae:0.007142\n",
      "[2050]\ttrain-mae:0.007141\tvalid-mae:0.007141\n",
      "[2060]\ttrain-mae:0.007141\tvalid-mae:0.007141\n",
      "[2070]\ttrain-mae:0.007141\tvalid-mae:0.007141\n",
      "[2080]\ttrain-mae:0.007141\tvalid-mae:0.007141\n",
      "[2090]\ttrain-mae:0.007141\tvalid-mae:0.007141\n",
      "[2100]\ttrain-mae:0.00714\tvalid-mae:0.00714\n",
      "[2110]\ttrain-mae:0.00714\tvalid-mae:0.00714\n",
      "[2120]\ttrain-mae:0.00714\tvalid-mae:0.00714\n",
      "[2130]\ttrain-mae:0.007139\tvalid-mae:0.007139\n",
      "[2140]\ttrain-mae:0.007139\tvalid-mae:0.007139\n",
      "[2150]\ttrain-mae:0.007139\tvalid-mae:0.007139\n",
      "[2160]\ttrain-mae:0.007139\tvalid-mae:0.007139\n",
      "[2170]\ttrain-mae:0.007138\tvalid-mae:0.007138\n",
      "[2180]\ttrain-mae:0.007138\tvalid-mae:0.007138\n",
      "[2190]\ttrain-mae:0.007138\tvalid-mae:0.007138\n",
      "[2200]\ttrain-mae:0.007138\tvalid-mae:0.007138\n",
      "[2210]\ttrain-mae:0.007138\tvalid-mae:0.007138\n",
      "[2220]\ttrain-mae:0.007137\tvalid-mae:0.007137\n",
      "[2230]\ttrain-mae:0.007137\tvalid-mae:0.007137\n",
      "[2240]\ttrain-mae:0.007137\tvalid-mae:0.007137\n",
      "[2250]\ttrain-mae:0.007137\tvalid-mae:0.007137\n",
      "[2260]\ttrain-mae:0.007137\tvalid-mae:0.007137\n",
      "[2270]\ttrain-mae:0.007136\tvalid-mae:0.007136\n",
      "[2280]\ttrain-mae:0.007136\tvalid-mae:0.007136\n",
      "[2290]\ttrain-mae:0.007136\tvalid-mae:0.007136\n",
      "[2300]\ttrain-mae:0.007136\tvalid-mae:0.007136\n",
      "[2310]\ttrain-mae:0.007136\tvalid-mae:0.007136\n",
      "[2320]\ttrain-mae:0.007135\tvalid-mae:0.007135\n",
      "[2330]\ttrain-mae:0.007135\tvalid-mae:0.007135\n",
      "[2340]\ttrain-mae:0.007135\tvalid-mae:0.007135\n",
      "[2350]\ttrain-mae:0.007135\tvalid-mae:0.007135\n",
      "[2360]\ttrain-mae:0.007135\tvalid-mae:0.007135\n",
      "[2370]\ttrain-mae:0.007134\tvalid-mae:0.007134\n",
      "[2380]\ttrain-mae:0.007134\tvalid-mae:0.007134\n",
      "[2390]\ttrain-mae:0.007134\tvalid-mae:0.007134\n",
      "[2400]\ttrain-mae:0.007134\tvalid-mae:0.007134\n",
      "[2410]\ttrain-mae:0.007134\tvalid-mae:0.007134\n",
      "[2420]\ttrain-mae:0.007133\tvalid-mae:0.007133\n",
      "[2430]\ttrain-mae:0.007133\tvalid-mae:0.007133\n",
      "[2440]\ttrain-mae:0.007133\tvalid-mae:0.007133\n",
      "[2450]\ttrain-mae:0.007133\tvalid-mae:0.007133\n",
      "[2460]\ttrain-mae:0.007132\tvalid-mae:0.007132\n",
      "[2470]\ttrain-mae:0.007132\tvalid-mae:0.007132\n",
      "[2480]\ttrain-mae:0.007132\tvalid-mae:0.007132\n",
      "[2490]\ttrain-mae:0.007131\tvalid-mae:0.007131\n",
      "[2500]\ttrain-mae:0.007131\tvalid-mae:0.007131\n",
      "[2510]\ttrain-mae:0.007131\tvalid-mae:0.007131\n",
      "[2520]\ttrain-mae:0.007131\tvalid-mae:0.007131\n",
      "[2530]\ttrain-mae:0.00713\tvalid-mae:0.00713\n",
      "[2540]\ttrain-mae:0.00713\tvalid-mae:0.00713\n",
      "[2550]\ttrain-mae:0.00713\tvalid-mae:0.00713\n",
      "[2560]\ttrain-mae:0.00713\tvalid-mae:0.00713\n",
      "[2570]\ttrain-mae:0.007129\tvalid-mae:0.007129\n",
      "[2580]\ttrain-mae:0.007129\tvalid-mae:0.007129\n",
      "[2590]\ttrain-mae:0.007129\tvalid-mae:0.007129\n",
      "[2600]\ttrain-mae:0.007129\tvalid-mae:0.007129\n",
      "[2610]\ttrain-mae:0.007128\tvalid-mae:0.007128\n",
      "[2620]\ttrain-mae:0.007128\tvalid-mae:0.007128\n",
      "[2630]\ttrain-mae:0.007128\tvalid-mae:0.007128\n",
      "[2640]\ttrain-mae:0.007128\tvalid-mae:0.007128\n",
      "[2650]\ttrain-mae:0.007128\tvalid-mae:0.007128\n",
      "[2660]\ttrain-mae:0.007128\tvalid-mae:0.007128\n",
      "[2670]\ttrain-mae:0.007127\tvalid-mae:0.007127\n",
      "[2680]\ttrain-mae:0.007127\tvalid-mae:0.007127\n",
      "[2690]\ttrain-mae:0.007127\tvalid-mae:0.007127\n",
      "[2700]\ttrain-mae:0.007126\tvalid-mae:0.007126\n",
      "[2710]\ttrain-mae:0.007126\tvalid-mae:0.007126\n",
      "[2720]\ttrain-mae:0.007126\tvalid-mae:0.007126\n",
      "[2730]\ttrain-mae:0.007126\tvalid-mae:0.007126\n",
      "[2740]\ttrain-mae:0.007125\tvalid-mae:0.007125\n",
      "[2750]\ttrain-mae:0.007125\tvalid-mae:0.007125\n",
      "[2760]\ttrain-mae:0.007125\tvalid-mae:0.007125\n",
      "[2770]\ttrain-mae:0.007124\tvalid-mae:0.007124\n",
      "[2780]\ttrain-mae:0.007124\tvalid-mae:0.007124\n",
      "[2790]\ttrain-mae:0.007124\tvalid-mae:0.007124\n",
      "[2800]\ttrain-mae:0.007124\tvalid-mae:0.007124\n",
      "[2810]\ttrain-mae:0.007124\tvalid-mae:0.007124\n",
      "[2820]\ttrain-mae:0.007123\tvalid-mae:0.007123\n",
      "[2830]\ttrain-mae:0.007123\tvalid-mae:0.007123\n",
      "[2840]\ttrain-mae:0.007123\tvalid-mae:0.007123\n",
      "[2850]\ttrain-mae:0.007123\tvalid-mae:0.007123\n",
      "[2860]\ttrain-mae:0.007123\tvalid-mae:0.007123\n",
      "[2870]\ttrain-mae:0.007123\tvalid-mae:0.007123\n",
      "[2880]\ttrain-mae:0.007123\tvalid-mae:0.007123\n",
      "[2890]\ttrain-mae:0.007122\tvalid-mae:0.007122\n",
      "[2900]\ttrain-mae:0.007122\tvalid-mae:0.007122\n",
      "[2910]\ttrain-mae:0.007122\tvalid-mae:0.007122\n",
      "[2920]\ttrain-mae:0.007122\tvalid-mae:0.007122\n",
      "[2930]\ttrain-mae:0.007122\tvalid-mae:0.007122\n",
      "[2940]\ttrain-mae:0.007121\tvalid-mae:0.007121\n",
      "[2950]\ttrain-mae:0.007121\tvalid-mae:0.007121\n",
      "[2960]\ttrain-mae:0.007121\tvalid-mae:0.007121\n",
      "[2970]\ttrain-mae:0.007121\tvalid-mae:0.007121\n",
      "[2980]\ttrain-mae:0.007121\tvalid-mae:0.007121\n",
      "[2990]\ttrain-mae:0.00712\tvalid-mae:0.00712\n",
      "[3000]\ttrain-mae:0.00712\tvalid-mae:0.00712\n",
      "[3010]\ttrain-mae:0.00712\tvalid-mae:0.00712\n",
      "[3020]\ttrain-mae:0.00712\tvalid-mae:0.00712\n",
      "[3030]\ttrain-mae:0.007119\tvalid-mae:0.007119\n",
      "[3040]\ttrain-mae:0.007119\tvalid-mae:0.007119\n",
      "[3050]\ttrain-mae:0.007119\tvalid-mae:0.007119\n",
      "[3060]\ttrain-mae:0.007119\tvalid-mae:0.007119\n",
      "[3070]\ttrain-mae:0.007119\tvalid-mae:0.007119\n",
      "[3080]\ttrain-mae:0.007118\tvalid-mae:0.007118\n",
      "[3090]\ttrain-mae:0.007118\tvalid-mae:0.007118\n",
      "[3100]\ttrain-mae:0.007118\tvalid-mae:0.007118\n",
      "[3110]\ttrain-mae:0.007118\tvalid-mae:0.007118\n",
      "[3120]\ttrain-mae:0.007117\tvalid-mae:0.007117\n",
      "[3130]\ttrain-mae:0.007117\tvalid-mae:0.007117\n",
      "[3140]\ttrain-mae:0.007117\tvalid-mae:0.007117\n",
      "[3150]\ttrain-mae:0.007117\tvalid-mae:0.007117\n",
      "[3160]\ttrain-mae:0.007117\tvalid-mae:0.007117\n",
      "[3170]\ttrain-mae:0.007117\tvalid-mae:0.007117\n",
      "[3180]\ttrain-mae:0.007117\tvalid-mae:0.007117\n",
      "[3190]\ttrain-mae:0.007116\tvalid-mae:0.007116\n",
      "[3200]\ttrain-mae:0.007116\tvalid-mae:0.007116\n",
      "[3210]\ttrain-mae:0.007116\tvalid-mae:0.007116\n",
      "[3220]\ttrain-mae:0.007116\tvalid-mae:0.007116\n",
      "[3230]\ttrain-mae:0.007116\tvalid-mae:0.007116\n",
      "[3240]\ttrain-mae:0.007116\tvalid-mae:0.007116\n",
      "[3250]\ttrain-mae:0.007116\tvalid-mae:0.007116\n",
      "[3260]\ttrain-mae:0.007115\tvalid-mae:0.007115\n",
      "[3270]\ttrain-mae:0.007115\tvalid-mae:0.007115\n",
      "[3280]\ttrain-mae:0.007115\tvalid-mae:0.007115\n",
      "[3290]\ttrain-mae:0.007115\tvalid-mae:0.007115\n",
      "[3300]\ttrain-mae:0.007114\tvalid-mae:0.007114\n",
      "[3310]\ttrain-mae:0.007114\tvalid-mae:0.007114\n",
      "[3320]\ttrain-mae:0.007114\tvalid-mae:0.007114\n",
      "[3330]\ttrain-mae:0.007113\tvalid-mae:0.007113\n",
      "[3340]\ttrain-mae:0.007113\tvalid-mae:0.007113\n",
      "[3350]\ttrain-mae:0.007113\tvalid-mae:0.007113\n",
      "[3360]\ttrain-mae:0.007113\tvalid-mae:0.007113\n",
      "[3370]\ttrain-mae:0.007113\tvalid-mae:0.007113\n",
      "[3380]\ttrain-mae:0.007113\tvalid-mae:0.007113\n",
      "[3390]\ttrain-mae:0.007113\tvalid-mae:0.007113\n",
      "[3400]\ttrain-mae:0.007112\tvalid-mae:0.007112\n",
      "[3410]\ttrain-mae:0.007112\tvalid-mae:0.007112\n",
      "[3420]\ttrain-mae:0.007112\tvalid-mae:0.007112\n",
      "[3430]\ttrain-mae:0.007112\tvalid-mae:0.007112\n",
      "[3440]\ttrain-mae:0.007112\tvalid-mae:0.007112\n",
      "[3450]\ttrain-mae:0.007112\tvalid-mae:0.007112\n",
      "[3460]\ttrain-mae:0.007112\tvalid-mae:0.007112\n",
      "[3470]\ttrain-mae:0.007111\tvalid-mae:0.007111\n",
      "[3480]\ttrain-mae:0.007111\tvalid-mae:0.007111\n",
      "[3490]\ttrain-mae:0.007111\tvalid-mae:0.007111\n",
      "[3500]\ttrain-mae:0.007111\tvalid-mae:0.007111\n",
      "[3510]\ttrain-mae:0.007111\tvalid-mae:0.007111\n",
      "[3520]\ttrain-mae:0.00711\tvalid-mae:0.00711\n",
      "[3530]\ttrain-mae:0.00711\tvalid-mae:0.00711\n",
      "[3540]\ttrain-mae:0.00711\tvalid-mae:0.00711\n",
      "[3550]\ttrain-mae:0.007109\tvalid-mae:0.007109\n",
      "[3560]\ttrain-mae:0.007109\tvalid-mae:0.007109\n",
      "[3570]\ttrain-mae:0.007109\tvalid-mae:0.007109\n",
      "[3580]\ttrain-mae:0.007109\tvalid-mae:0.007109\n",
      "[3590]\ttrain-mae:0.007109\tvalid-mae:0.007109\n",
      "[3600]\ttrain-mae:0.007108\tvalid-mae:0.007108\n",
      "[3610]\ttrain-mae:0.007108\tvalid-mae:0.007108\n",
      "[3620]\ttrain-mae:0.007108\tvalid-mae:0.007108\n",
      "[3630]\ttrain-mae:0.007108\tvalid-mae:0.007108\n",
      "[3640]\ttrain-mae:0.007108\tvalid-mae:0.007108\n",
      "[3650]\ttrain-mae:0.007107\tvalid-mae:0.007107\n"
     ]
    },
    {
     "name": "stdout",
     "output_type": "stream",
     "text": [
      "[3660]\ttrain-mae:0.007107\tvalid-mae:0.007107\n",
      "[3670]\ttrain-mae:0.007107\tvalid-mae:0.007107\n",
      "[3680]\ttrain-mae:0.007107\tvalid-mae:0.007107\n",
      "[3690]\ttrain-mae:0.007107\tvalid-mae:0.007107\n",
      "[3700]\ttrain-mae:0.007106\tvalid-mae:0.007106\n",
      "[3710]\ttrain-mae:0.007106\tvalid-mae:0.007106\n",
      "[3720]\ttrain-mae:0.007106\tvalid-mae:0.007106\n",
      "[3730]\ttrain-mae:0.007106\tvalid-mae:0.007106\n",
      "[3740]\ttrain-mae:0.007106\tvalid-mae:0.007106\n",
      "[3750]\ttrain-mae:0.007106\tvalid-mae:0.007106\n",
      "[3760]\ttrain-mae:0.007106\tvalid-mae:0.007106\n",
      "[3770]\ttrain-mae:0.007105\tvalid-mae:0.007105\n",
      "[3780]\ttrain-mae:0.007105\tvalid-mae:0.007105\n",
      "[3790]\ttrain-mae:0.007105\tvalid-mae:0.007105\n",
      "[3800]\ttrain-mae:0.007105\tvalid-mae:0.007105\n",
      "[3810]\ttrain-mae:0.007104\tvalid-mae:0.007104\n",
      "[3820]\ttrain-mae:0.007104\tvalid-mae:0.007104\n",
      "[3830]\ttrain-mae:0.007104\tvalid-mae:0.007104\n",
      "[3840]\ttrain-mae:0.007104\tvalid-mae:0.007104\n",
      "[3850]\ttrain-mae:0.007104\tvalid-mae:0.007104\n",
      "[3860]\ttrain-mae:0.007103\tvalid-mae:0.007103\n",
      "[3870]\ttrain-mae:0.007103\tvalid-mae:0.007103\n",
      "[3880]\ttrain-mae:0.007103\tvalid-mae:0.007103\n",
      "[3890]\ttrain-mae:0.007103\tvalid-mae:0.007103\n",
      "[3900]\ttrain-mae:0.007103\tvalid-mae:0.007103\n",
      "[3910]\ttrain-mae:0.007102\tvalid-mae:0.007102\n",
      "[3920]\ttrain-mae:0.007102\tvalid-mae:0.007102\n",
      "[3930]\ttrain-mae:0.007102\tvalid-mae:0.007102\n",
      "[3940]\ttrain-mae:0.007102\tvalid-mae:0.007102\n",
      "[3950]\ttrain-mae:0.007102\tvalid-mae:0.007102\n",
      "[3960]\ttrain-mae:0.007102\tvalid-mae:0.007102\n",
      "[3970]\ttrain-mae:0.007102\tvalid-mae:0.007102\n",
      "[3980]\ttrain-mae:0.007101\tvalid-mae:0.007101\n",
      "[3990]\ttrain-mae:0.007101\tvalid-mae:0.007101\n",
      "[4000]\ttrain-mae:0.007101\tvalid-mae:0.007101\n",
      "[4010]\ttrain-mae:0.007101\tvalid-mae:0.007101\n",
      "[4020]\ttrain-mae:0.007101\tvalid-mae:0.007101\n",
      "[4030]\ttrain-mae:0.007101\tvalid-mae:0.007101\n",
      "[4040]\ttrain-mae:0.0071\tvalid-mae:0.0071\n",
      "[4050]\ttrain-mae:0.0071\tvalid-mae:0.0071\n",
      "[4060]\ttrain-mae:0.0071\tvalid-mae:0.0071\n",
      "[4070]\ttrain-mae:0.0071\tvalid-mae:0.0071\n",
      "[4080]\ttrain-mae:0.0071\tvalid-mae:0.0071\n",
      "[4090]\ttrain-mae:0.0071\tvalid-mae:0.0071\n",
      "[4100]\ttrain-mae:0.007099\tvalid-mae:0.007099\n",
      "[4110]\ttrain-mae:0.007099\tvalid-mae:0.007099\n",
      "[4120]\ttrain-mae:0.007099\tvalid-mae:0.007099\n",
      "[4130]\ttrain-mae:0.007099\tvalid-mae:0.007099\n",
      "[4140]\ttrain-mae:0.007099\tvalid-mae:0.007099\n",
      "[4150]\ttrain-mae:0.007099\tvalid-mae:0.007099\n",
      "[4160]\ttrain-mae:0.007098\tvalid-mae:0.007098\n",
      "[4170]\ttrain-mae:0.007098\tvalid-mae:0.007098\n",
      "[4180]\ttrain-mae:0.007098\tvalid-mae:0.007098\n",
      "[4190]\ttrain-mae:0.007098\tvalid-mae:0.007098\n",
      "[4200]\ttrain-mae:0.007098\tvalid-mae:0.007098\n",
      "[4210]\ttrain-mae:0.007097\tvalid-mae:0.007097\n",
      "[4220]\ttrain-mae:0.007097\tvalid-mae:0.007097\n",
      "[4230]\ttrain-mae:0.007097\tvalid-mae:0.007097\n",
      "[4240]\ttrain-mae:0.007097\tvalid-mae:0.007097\n",
      "[4250]\ttrain-mae:0.007097\tvalid-mae:0.007097\n",
      "[4260]\ttrain-mae:0.007097\tvalid-mae:0.007097\n",
      "[4270]\ttrain-mae:0.007096\tvalid-mae:0.007096\n",
      "[4280]\ttrain-mae:0.007096\tvalid-mae:0.007096\n",
      "[4290]\ttrain-mae:0.007096\tvalid-mae:0.007096\n",
      "[4300]\ttrain-mae:0.007096\tvalid-mae:0.007096\n",
      "[4310]\ttrain-mae:0.007096\tvalid-mae:0.007096\n",
      "[4320]\ttrain-mae:0.007096\tvalid-mae:0.007096\n",
      "[4330]\ttrain-mae:0.007096\tvalid-mae:0.007096\n",
      "[4340]\ttrain-mae:0.007095\tvalid-mae:0.007095\n",
      "[4350]\ttrain-mae:0.007095\tvalid-mae:0.007095\n",
      "[4360]\ttrain-mae:0.007095\tvalid-mae:0.007095\n",
      "[4370]\ttrain-mae:0.007095\tvalid-mae:0.007095\n",
      "[4380]\ttrain-mae:0.007095\tvalid-mae:0.007095\n",
      "[4390]\ttrain-mae:0.007095\tvalid-mae:0.007095\n",
      "[4400]\ttrain-mae:0.007094\tvalid-mae:0.007094\n",
      "[4410]\ttrain-mae:0.007094\tvalid-mae:0.007094\n",
      "[4420]\ttrain-mae:0.007094\tvalid-mae:0.007094\n",
      "[4430]\ttrain-mae:0.007094\tvalid-mae:0.007094\n",
      "[4440]\ttrain-mae:0.007094\tvalid-mae:0.007094\n",
      "[4450]\ttrain-mae:0.007094\tvalid-mae:0.007094\n",
      "[4460]\ttrain-mae:0.007094\tvalid-mae:0.007094\n",
      "[4470]\ttrain-mae:0.007093\tvalid-mae:0.007093\n",
      "[4480]\ttrain-mae:0.007093\tvalid-mae:0.007093\n",
      "[4490]\ttrain-mae:0.007093\tvalid-mae:0.007093\n",
      "[4500]\ttrain-mae:0.007093\tvalid-mae:0.007093\n",
      "[4510]\ttrain-mae:0.007093\tvalid-mae:0.007093\n",
      "[4520]\ttrain-mae:0.007092\tvalid-mae:0.007092\n",
      "[4530]\ttrain-mae:0.007092\tvalid-mae:0.007092\n",
      "[4540]\ttrain-mae:0.007092\tvalid-mae:0.007092\n",
      "[4550]\ttrain-mae:0.007092\tvalid-mae:0.007092\n",
      "[4560]\ttrain-mae:0.007092\tvalid-mae:0.007092\n",
      "[4570]\ttrain-mae:0.007092\tvalid-mae:0.007092\n",
      "[4580]\ttrain-mae:0.007091\tvalid-mae:0.007091\n",
      "[4590]\ttrain-mae:0.007091\tvalid-mae:0.007091\n",
      "[4600]\ttrain-mae:0.007091\tvalid-mae:0.007091\n",
      "[4610]\ttrain-mae:0.007091\tvalid-mae:0.007091\n",
      "[4620]\ttrain-mae:0.007091\tvalid-mae:0.007091\n",
      "[4630]\ttrain-mae:0.007091\tvalid-mae:0.007091\n",
      "[4640]\ttrain-mae:0.00709\tvalid-mae:0.00709\n",
      "[4650]\ttrain-mae:0.00709\tvalid-mae:0.00709\n",
      "[4660]\ttrain-mae:0.00709\tvalid-mae:0.00709\n",
      "[4670]\ttrain-mae:0.00709\tvalid-mae:0.00709\n",
      "[4680]\ttrain-mae:0.00709\tvalid-mae:0.00709\n",
      "[4690]\ttrain-mae:0.00709\tvalid-mae:0.00709\n",
      "[4700]\ttrain-mae:0.00709\tvalid-mae:0.00709\n",
      "[4710]\ttrain-mae:0.007089\tvalid-mae:0.007089\n",
      "[4720]\ttrain-mae:0.007089\tvalid-mae:0.007089\n",
      "[4730]\ttrain-mae:0.007089\tvalid-mae:0.007089\n",
      "[4740]\ttrain-mae:0.007089\tvalid-mae:0.007089\n",
      "[4750]\ttrain-mae:0.007089\tvalid-mae:0.007089\n",
      "[4760]\ttrain-mae:0.007089\tvalid-mae:0.007089\n",
      "[4770]\ttrain-mae:0.007088\tvalid-mae:0.007088\n",
      "[4780]\ttrain-mae:0.007088\tvalid-mae:0.007088\n",
      "[4790]\ttrain-mae:0.007088\tvalid-mae:0.007088\n",
      "[4800]\ttrain-mae:0.007088\tvalid-mae:0.007088\n",
      "[4810]\ttrain-mae:0.007088\tvalid-mae:0.007088\n",
      "[4820]\ttrain-mae:0.007087\tvalid-mae:0.007087\n",
      "[4830]\ttrain-mae:0.007087\tvalid-mae:0.007087\n",
      "[4840]\ttrain-mae:0.007087\tvalid-mae:0.007087\n",
      "[4850]\ttrain-mae:0.007087\tvalid-mae:0.007087\n",
      "[4860]\ttrain-mae:0.007087\tvalid-mae:0.007087\n",
      "[4870]\ttrain-mae:0.007087\tvalid-mae:0.007087\n",
      "[4880]\ttrain-mae:0.007087\tvalid-mae:0.007087\n",
      "[4890]\ttrain-mae:0.007087\tvalid-mae:0.007087\n",
      "[4900]\ttrain-mae:0.007086\tvalid-mae:0.007086\n",
      "[4910]\ttrain-mae:0.007086\tvalid-mae:0.007086\n",
      "[4920]\ttrain-mae:0.007086\tvalid-mae:0.007086\n",
      "[4930]\ttrain-mae:0.007086\tvalid-mae:0.007086\n",
      "[4940]\ttrain-mae:0.007085\tvalid-mae:0.007085\n",
      "[4950]\ttrain-mae:0.007085\tvalid-mae:0.007085\n",
      "[4960]\ttrain-mae:0.007085\tvalid-mae:0.007085\n",
      "[4970]\ttrain-mae:0.007085\tvalid-mae:0.007085\n",
      "[4980]\ttrain-mae:0.007085\tvalid-mae:0.007085\n",
      "[4990]\ttrain-mae:0.007085\tvalid-mae:0.007085\n",
      "[5000]\ttrain-mae:0.007085\tvalid-mae:0.007085\n",
      "[5010]\ttrain-mae:0.007084\tvalid-mae:0.007084\n",
      "[5020]\ttrain-mae:0.007084\tvalid-mae:0.007084\n",
      "[5030]\ttrain-mae:0.007084\tvalid-mae:0.007084\n",
      "[5040]\ttrain-mae:0.007084\tvalid-mae:0.007084\n",
      "[5050]\ttrain-mae:0.007084\tvalid-mae:0.007084\n",
      "[5060]\ttrain-mae:0.007084\tvalid-mae:0.007084\n",
      "[5070]\ttrain-mae:0.007084\tvalid-mae:0.007084\n",
      "[5080]\ttrain-mae:0.007083\tvalid-mae:0.007083\n",
      "[5090]\ttrain-mae:0.007083\tvalid-mae:0.007083\n",
      "[5100]\ttrain-mae:0.007083\tvalid-mae:0.007083\n",
      "[5110]\ttrain-mae:0.007083\tvalid-mae:0.007083\n",
      "[5120]\ttrain-mae:0.007083\tvalid-mae:0.007083\n",
      "[5130]\ttrain-mae:0.007083\tvalid-mae:0.007083\n",
      "[5140]\ttrain-mae:0.007083\tvalid-mae:0.007083\n",
      "[5150]\ttrain-mae:0.007082\tvalid-mae:0.007082\n",
      "[5160]\ttrain-mae:0.007082\tvalid-mae:0.007082\n",
      "[5170]\ttrain-mae:0.007082\tvalid-mae:0.007082\n",
      "[5180]\ttrain-mae:0.007082\tvalid-mae:0.007082\n",
      "[5190]\ttrain-mae:0.007082\tvalid-mae:0.007082\n",
      "[5200]\ttrain-mae:0.007081\tvalid-mae:0.007081\n",
      "[5210]\ttrain-mae:0.007081\tvalid-mae:0.007081\n",
      "[5220]\ttrain-mae:0.007081\tvalid-mae:0.007081\n",
      "[5230]\ttrain-mae:0.007081\tvalid-mae:0.007081\n",
      "[5240]\ttrain-mae:0.007081\tvalid-mae:0.007081\n",
      "[5250]\ttrain-mae:0.007081\tvalid-mae:0.007081\n",
      "[5260]\ttrain-mae:0.00708\tvalid-mae:0.00708\n",
      "[5270]\ttrain-mae:0.00708\tvalid-mae:0.00708\n",
      "[5280]\ttrain-mae:0.00708\tvalid-mae:0.00708\n",
      "[5290]\ttrain-mae:0.00708\tvalid-mae:0.00708\n",
      "[5300]\ttrain-mae:0.00708\tvalid-mae:0.00708\n",
      "[5310]\ttrain-mae:0.00708\tvalid-mae:0.00708\n",
      "[5320]\ttrain-mae:0.00708\tvalid-mae:0.00708\n",
      "[5330]\ttrain-mae:0.007079\tvalid-mae:0.007079\n",
      "[5340]\ttrain-mae:0.007079\tvalid-mae:0.007079\n",
      "[5350]\ttrain-mae:0.007079\tvalid-mae:0.007079\n",
      "[5360]\ttrain-mae:0.007079\tvalid-mae:0.007079\n",
      "[5370]\ttrain-mae:0.007079\tvalid-mae:0.007079\n",
      "[5380]\ttrain-mae:0.007079\tvalid-mae:0.007079\n",
      "[5390]\ttrain-mae:0.007079\tvalid-mae:0.007079\n",
      "[5400]\ttrain-mae:0.007078\tvalid-mae:0.007078\n",
      "[5410]\ttrain-mae:0.007078\tvalid-mae:0.007078\n",
      "[5420]\ttrain-mae:0.007078\tvalid-mae:0.007078\n",
      "[5430]\ttrain-mae:0.007078\tvalid-mae:0.007078\n",
      "[5440]\ttrain-mae:0.007078\tvalid-mae:0.007078\n",
      "[5450]\ttrain-mae:0.007078\tvalid-mae:0.007078\n",
      "[5460]\ttrain-mae:0.007078\tvalid-mae:0.007078\n",
      "[5470]\ttrain-mae:0.007078\tvalid-mae:0.007078\n",
      "[5480]\ttrain-mae:0.007077\tvalid-mae:0.007077\n",
      "[5490]\ttrain-mae:0.007077\tvalid-mae:0.007077\n"
     ]
    },
    {
     "name": "stdout",
     "output_type": "stream",
     "text": [
      "[5500]\ttrain-mae:0.007077\tvalid-mae:0.007077\n",
      "[5510]\ttrain-mae:0.007077\tvalid-mae:0.007077\n",
      "[5520]\ttrain-mae:0.007077\tvalid-mae:0.007077\n",
      "[5530]\ttrain-mae:0.007077\tvalid-mae:0.007077\n",
      "[5540]\ttrain-mae:0.007076\tvalid-mae:0.007076\n",
      "[5550]\ttrain-mae:0.007076\tvalid-mae:0.007076\n",
      "[5560]\ttrain-mae:0.007076\tvalid-mae:0.007076\n",
      "[5570]\ttrain-mae:0.007076\tvalid-mae:0.007076\n",
      "[5580]\ttrain-mae:0.007076\tvalid-mae:0.007076\n",
      "[5590]\ttrain-mae:0.007076\tvalid-mae:0.007076\n",
      "[5600]\ttrain-mae:0.007076\tvalid-mae:0.007076\n",
      "[5610]\ttrain-mae:0.007075\tvalid-mae:0.007075\n",
      "[5620]\ttrain-mae:0.007075\tvalid-mae:0.007075\n",
      "[5630]\ttrain-mae:0.007075\tvalid-mae:0.007075\n",
      "[5640]\ttrain-mae:0.007075\tvalid-mae:0.007075\n",
      "[5650]\ttrain-mae:0.007075\tvalid-mae:0.007075\n",
      "[5660]\ttrain-mae:0.007075\tvalid-mae:0.007075\n",
      "[5670]\ttrain-mae:0.007075\tvalid-mae:0.007075\n",
      "[5680]\ttrain-mae:0.007075\tvalid-mae:0.007075\n",
      "[5690]\ttrain-mae:0.007075\tvalid-mae:0.007075\n",
      "[5700]\ttrain-mae:0.007075\tvalid-mae:0.007075\n",
      "[5710]\ttrain-mae:0.007074\tvalid-mae:0.007074\n",
      "[5720]\ttrain-mae:0.007074\tvalid-mae:0.007074\n",
      "[5730]\ttrain-mae:0.007074\tvalid-mae:0.007074\n",
      "[5740]\ttrain-mae:0.007074\tvalid-mae:0.007074\n",
      "[5750]\ttrain-mae:0.007074\tvalid-mae:0.007074\n",
      "[5760]\ttrain-mae:0.007073\tvalid-mae:0.007073\n",
      "[5770]\ttrain-mae:0.007073\tvalid-mae:0.007073\n",
      "[5780]\ttrain-mae:0.007073\tvalid-mae:0.007073\n",
      "[5790]\ttrain-mae:0.007073\tvalid-mae:0.007073\n",
      "[5800]\ttrain-mae:0.007073\tvalid-mae:0.007073\n",
      "[5810]\ttrain-mae:0.007073\tvalid-mae:0.007073\n",
      "[5820]\ttrain-mae:0.007072\tvalid-mae:0.007072\n",
      "[5830]\ttrain-mae:0.007072\tvalid-mae:0.007072\n",
      "[5840]\ttrain-mae:0.007072\tvalid-mae:0.007072\n",
      "[5850]\ttrain-mae:0.007072\tvalid-mae:0.007072\n",
      "[5860]\ttrain-mae:0.007072\tvalid-mae:0.007072\n",
      "[5870]\ttrain-mae:0.007072\tvalid-mae:0.007072\n",
      "[5880]\ttrain-mae:0.007072\tvalid-mae:0.007072\n",
      "[5890]\ttrain-mae:0.007071\tvalid-mae:0.007071\n",
      "[5900]\ttrain-mae:0.007071\tvalid-mae:0.007071\n",
      "[5910]\ttrain-mae:0.007071\tvalid-mae:0.007071\n",
      "[5920]\ttrain-mae:0.007071\tvalid-mae:0.007071\n",
      "[5930]\ttrain-mae:0.007071\tvalid-mae:0.007071\n",
      "[5940]\ttrain-mae:0.007071\tvalid-mae:0.007071\n",
      "[5950]\ttrain-mae:0.007071\tvalid-mae:0.007071\n",
      "[5960]\ttrain-mae:0.00707\tvalid-mae:0.00707\n",
      "[5970]\ttrain-mae:0.00707\tvalid-mae:0.00707\n",
      "[5980]\ttrain-mae:0.00707\tvalid-mae:0.00707\n",
      "[5990]\ttrain-mae:0.00707\tvalid-mae:0.00707\n",
      "[6000]\ttrain-mae:0.00707\tvalid-mae:0.00707\n",
      "[6010]\ttrain-mae:0.00707\tvalid-mae:0.00707\n",
      "[6020]\ttrain-mae:0.00707\tvalid-mae:0.00707\n",
      "[6030]\ttrain-mae:0.00707\tvalid-mae:0.00707\n",
      "[6040]\ttrain-mae:0.007069\tvalid-mae:0.007069\n",
      "[6050]\ttrain-mae:0.007069\tvalid-mae:0.007069\n",
      "[6060]\ttrain-mae:0.007069\tvalid-mae:0.007069\n",
      "[6070]\ttrain-mae:0.007069\tvalid-mae:0.007069\n",
      "[6080]\ttrain-mae:0.007069\tvalid-mae:0.007069\n",
      "[6090]\ttrain-mae:0.007069\tvalid-mae:0.007069\n",
      "[6100]\ttrain-mae:0.007068\tvalid-mae:0.007068\n",
      "[6110]\ttrain-mae:0.007068\tvalid-mae:0.007068\n",
      "[6120]\ttrain-mae:0.007068\tvalid-mae:0.007068\n",
      "[6130]\ttrain-mae:0.007068\tvalid-mae:0.007068\n",
      "[6140]\ttrain-mae:0.007068\tvalid-mae:0.007068\n",
      "[6150]\ttrain-mae:0.007068\tvalid-mae:0.007068\n",
      "[6160]\ttrain-mae:0.007068\tvalid-mae:0.007068\n",
      "[6170]\ttrain-mae:0.007067\tvalid-mae:0.007067\n",
      "[6180]\ttrain-mae:0.007067\tvalid-mae:0.007067\n",
      "[6190]\ttrain-mae:0.007067\tvalid-mae:0.007067\n",
      "[6200]\ttrain-mae:0.007067\tvalid-mae:0.007067\n",
      "[6210]\ttrain-mae:0.007067\tvalid-mae:0.007067\n",
      "[6220]\ttrain-mae:0.007067\tvalid-mae:0.007067\n",
      "[6230]\ttrain-mae:0.007067\tvalid-mae:0.007067\n",
      "[6240]\ttrain-mae:0.007067\tvalid-mae:0.007067\n",
      "[6250]\ttrain-mae:0.007067\tvalid-mae:0.007067\n",
      "[6260]\ttrain-mae:0.007066\tvalid-mae:0.007066\n",
      "[6270]\ttrain-mae:0.007066\tvalid-mae:0.007066\n",
      "[6280]\ttrain-mae:0.007066\tvalid-mae:0.007066\n",
      "[6290]\ttrain-mae:0.007066\tvalid-mae:0.007066\n",
      "[6300]\ttrain-mae:0.007066\tvalid-mae:0.007066\n",
      "[6310]\ttrain-mae:0.007066\tvalid-mae:0.007066\n",
      "[6320]\ttrain-mae:0.007065\tvalid-mae:0.007065\n",
      "[6330]\ttrain-mae:0.007065\tvalid-mae:0.007065\n",
      "[6340]\ttrain-mae:0.007065\tvalid-mae:0.007065\n",
      "[6350]\ttrain-mae:0.007065\tvalid-mae:0.007065\n",
      "[6360]\ttrain-mae:0.007065\tvalid-mae:0.007065\n",
      "[6370]\ttrain-mae:0.007065\tvalid-mae:0.007065\n",
      "[6380]\ttrain-mae:0.007064\tvalid-mae:0.007064\n",
      "[6390]\ttrain-mae:0.007064\tvalid-mae:0.007064\n",
      "[6400]\ttrain-mae:0.007064\tvalid-mae:0.007064\n",
      "[6410]\ttrain-mae:0.007064\tvalid-mae:0.007064\n",
      "[6420]\ttrain-mae:0.007064\tvalid-mae:0.007064\n",
      "[6430]\ttrain-mae:0.007064\tvalid-mae:0.007064\n",
      "[6440]\ttrain-mae:0.007064\tvalid-mae:0.007064\n",
      "[6450]\ttrain-mae:0.007064\tvalid-mae:0.007064\n",
      "[6460]\ttrain-mae:0.007064\tvalid-mae:0.007064\n",
      "[6470]\ttrain-mae:0.007063\tvalid-mae:0.007063\n",
      "[6480]\ttrain-mae:0.007063\tvalid-mae:0.007063\n",
      "[6490]\ttrain-mae:0.007063\tvalid-mae:0.007063\n",
      "[6500]\ttrain-mae:0.007063\tvalid-mae:0.007063\n",
      "[6510]\ttrain-mae:0.007063\tvalid-mae:0.007063\n",
      "[6520]\ttrain-mae:0.007063\tvalid-mae:0.007063\n",
      "[6530]\ttrain-mae:0.007063\tvalid-mae:0.007063\n",
      "[6540]\ttrain-mae:0.007063\tvalid-mae:0.007063\n",
      "[6550]\ttrain-mae:0.007062\tvalid-mae:0.007062\n",
      "[6560]\ttrain-mae:0.007062\tvalid-mae:0.007062\n",
      "[6570]\ttrain-mae:0.007062\tvalid-mae:0.007062\n",
      "[6580]\ttrain-mae:0.007062\tvalid-mae:0.007062\n",
      "[6590]\ttrain-mae:0.007062\tvalid-mae:0.007062\n",
      "[6600]\ttrain-mae:0.007061\tvalid-mae:0.007061\n",
      "[6610]\ttrain-mae:0.007061\tvalid-mae:0.007061\n",
      "[6620]\ttrain-mae:0.007061\tvalid-mae:0.007061\n",
      "[6630]\ttrain-mae:0.007061\tvalid-mae:0.007061\n",
      "[6640]\ttrain-mae:0.007061\tvalid-mae:0.007061\n",
      "[6650]\ttrain-mae:0.007061\tvalid-mae:0.007061\n",
      "[6660]\ttrain-mae:0.007061\tvalid-mae:0.007061\n",
      "[6670]\ttrain-mae:0.00706\tvalid-mae:0.00706\n",
      "[6680]\ttrain-mae:0.00706\tvalid-mae:0.00706\n",
      "[6690]\ttrain-mae:0.00706\tvalid-mae:0.00706\n",
      "[6700]\ttrain-mae:0.00706\tvalid-mae:0.00706\n",
      "[6710]\ttrain-mae:0.00706\tvalid-mae:0.00706\n",
      "[6720]\ttrain-mae:0.00706\tvalid-mae:0.00706\n",
      "[6730]\ttrain-mae:0.00706\tvalid-mae:0.00706\n",
      "[6740]\ttrain-mae:0.007059\tvalid-mae:0.007059\n",
      "[6750]\ttrain-mae:0.007059\tvalid-mae:0.007059\n",
      "[6760]\ttrain-mae:0.007059\tvalid-mae:0.007059\n",
      "[6770]\ttrain-mae:0.007059\tvalid-mae:0.007059\n",
      "[6780]\ttrain-mae:0.007059\tvalid-mae:0.007059\n",
      "[6790]\ttrain-mae:0.007059\tvalid-mae:0.007059\n",
      "[6800]\ttrain-mae:0.007059\tvalid-mae:0.007059\n",
      "[6810]\ttrain-mae:0.007059\tvalid-mae:0.007059\n",
      "[6820]\ttrain-mae:0.007059\tvalid-mae:0.007059\n",
      "[6830]\ttrain-mae:0.007058\tvalid-mae:0.007058\n",
      "[6840]\ttrain-mae:0.007058\tvalid-mae:0.007058\n",
      "[6850]\ttrain-mae:0.007058\tvalid-mae:0.007058\n",
      "[6860]\ttrain-mae:0.007058\tvalid-mae:0.007058\n",
      "[6870]\ttrain-mae:0.007058\tvalid-mae:0.007058\n",
      "[6880]\ttrain-mae:0.007058\tvalid-mae:0.007058\n",
      "[6890]\ttrain-mae:0.007057\tvalid-mae:0.007057\n",
      "[6900]\ttrain-mae:0.007057\tvalid-mae:0.007057\n",
      "[6910]\ttrain-mae:0.007057\tvalid-mae:0.007057\n",
      "[6920]\ttrain-mae:0.007057\tvalid-mae:0.007057\n",
      "[6930]\ttrain-mae:0.007057\tvalid-mae:0.007057\n",
      "[6940]\ttrain-mae:0.007057\tvalid-mae:0.007057\n",
      "[6950]\ttrain-mae:0.007057\tvalid-mae:0.007057\n",
      "[6960]\ttrain-mae:0.007057\tvalid-mae:0.007057\n",
      "[6970]\ttrain-mae:0.007057\tvalid-mae:0.007057\n",
      "[6980]\ttrain-mae:0.007056\tvalid-mae:0.007056\n",
      "[6990]\ttrain-mae:0.007056\tvalid-mae:0.007056\n",
      "[7000]\ttrain-mae:0.007056\tvalid-mae:0.007056\n",
      "[7010]\ttrain-mae:0.007056\tvalid-mae:0.007056\n",
      "[7020]\ttrain-mae:0.007056\tvalid-mae:0.007056\n",
      "[7030]\ttrain-mae:0.007056\tvalid-mae:0.007056\n",
      "[7040]\ttrain-mae:0.007055\tvalid-mae:0.007055\n",
      "[7050]\ttrain-mae:0.007055\tvalid-mae:0.007055\n",
      "[7060]\ttrain-mae:0.007055\tvalid-mae:0.007055\n",
      "[7070]\ttrain-mae:0.007055\tvalid-mae:0.007055\n",
      "[7080]\ttrain-mae:0.007055\tvalid-mae:0.007055\n",
      "[7090]\ttrain-mae:0.007055\tvalid-mae:0.007055\n",
      "[7100]\ttrain-mae:0.007054\tvalid-mae:0.007054\n",
      "[7110]\ttrain-mae:0.007054\tvalid-mae:0.007054\n",
      "[7120]\ttrain-mae:0.007054\tvalid-mae:0.007054\n",
      "[7130]\ttrain-mae:0.007054\tvalid-mae:0.007054\n",
      "[7140]\ttrain-mae:0.007054\tvalid-mae:0.007054\n",
      "[7150]\ttrain-mae:0.007054\tvalid-mae:0.007054\n",
      "[7160]\ttrain-mae:0.007054\tvalid-mae:0.007054\n",
      "[7170]\ttrain-mae:0.007053\tvalid-mae:0.007053\n",
      "[7180]\ttrain-mae:0.007053\tvalid-mae:0.007053\n",
      "[7190]\ttrain-mae:0.007053\tvalid-mae:0.007053\n",
      "[7200]\ttrain-mae:0.007053\tvalid-mae:0.007053\n",
      "[7210]\ttrain-mae:0.007053\tvalid-mae:0.007053\n",
      "[7220]\ttrain-mae:0.007053\tvalid-mae:0.007053\n",
      "[7230]\ttrain-mae:0.007053\tvalid-mae:0.007053\n",
      "[7240]\ttrain-mae:0.007053\tvalid-mae:0.007053\n",
      "[7250]\ttrain-mae:0.007053\tvalid-mae:0.007053\n",
      "[7260]\ttrain-mae:0.007052\tvalid-mae:0.007052\n",
      "[7270]\ttrain-mae:0.007052\tvalid-mae:0.007052\n",
      "[7280]\ttrain-mae:0.007052\tvalid-mae:0.007052\n",
      "[7290]\ttrain-mae:0.007052\tvalid-mae:0.007052\n",
      "[7300]\ttrain-mae:0.007052\tvalid-mae:0.007052\n",
      "[7310]\ttrain-mae:0.007051\tvalid-mae:0.007051\n",
      "[7320]\ttrain-mae:0.007051\tvalid-mae:0.007051\n"
     ]
    },
    {
     "name": "stdout",
     "output_type": "stream",
     "text": [
      "[7330]\ttrain-mae:0.007051\tvalid-mae:0.007051\n",
      "[7340]\ttrain-mae:0.007051\tvalid-mae:0.007051\n",
      "[7350]\ttrain-mae:0.007051\tvalid-mae:0.007051\n",
      "[7360]\ttrain-mae:0.007051\tvalid-mae:0.007051\n",
      "[7370]\ttrain-mae:0.007051\tvalid-mae:0.007051\n",
      "[7380]\ttrain-mae:0.00705\tvalid-mae:0.00705\n",
      "[7390]\ttrain-mae:0.007051\tvalid-mae:0.007051\n",
      "[7400]\ttrain-mae:0.007051\tvalid-mae:0.007051\n",
      "[7410]\ttrain-mae:0.007051\tvalid-mae:0.007051\n",
      "[7420]\ttrain-mae:0.00705\tvalid-mae:0.00705\n",
      "[7430]\ttrain-mae:0.00705\tvalid-mae:0.00705\n",
      "[7440]\ttrain-mae:0.00705\tvalid-mae:0.00705\n",
      "[7450]\ttrain-mae:0.00705\tvalid-mae:0.00705\n",
      "[7460]\ttrain-mae:0.00705\tvalid-mae:0.00705\n",
      "[7470]\ttrain-mae:0.00705\tvalid-mae:0.00705\n",
      "[7480]\ttrain-mae:0.00705\tvalid-mae:0.00705\n",
      "Stopping. Best iteration:\n",
      "[7380]\ttrain-mae:0.00705\tvalid-mae:0.00705\n",
      "\n"
     ]
    }
   ],
   "source": [
    "xgb_clf = xgb.train(xgb_params, XDB, num_boost_round=10000, evals=evals, early_stopping_rounds=100, verbose_eval=10)"
   ]
  },
  {
   "cell_type": "code",
   "execution_count": 74,
   "metadata": {},
   "outputs": [],
   "source": [
    "xgb_clf.save_model('xgb_trained.model')"
   ]
  },
  {
   "cell_type": "code",
   "execution_count": 136,
   "metadata": {},
   "outputs": [],
   "source": [
    "Y1 = test1['logerror'].values\n",
    "Y2 = test2['logerror'].values\n",
    "Y3 = test3['logerror'].values\n",
    "Y4 = test4['logerror'].values\n",
    "Xtest1 = test1.drop(['logerror','parcelid'], axis=1).as_matrix()\n",
    "Xtest2 = test2.drop(['logerror','parcelid'], axis=1).as_matrix()\n",
    "Xtest3 = test3.drop(['logerror','parcelid'], axis=1).as_matrix()\n",
    "Xtest4 = test4.drop(['logerror','parcelid'], axis=1).as_matrix()"
   ]
  },
  {
   "cell_type": "code",
   "execution_count": 38,
   "metadata": {},
   "outputs": [],
   "source": [
    "Xtest = np.concatenate((Xtest1,Xtest2,Xtest3,Xtest4), axis=0)"
   ]
  },
  {
   "cell_type": "code",
   "execution_count": 39,
   "metadata": {},
   "outputs": [],
   "source": [
    "Xtest = xgb.DMatrix(Xtest)"
   ]
  },
  {
   "cell_type": "markdown",
   "metadata": {},
   "source": [
    "#### Loading the saved model"
   ]
  },
  {
   "cell_type": "code",
   "execution_count": 91,
   "metadata": {},
   "outputs": [],
   "source": [
    "xgb_clf = xgb.Booster()"
   ]
  },
  {
   "cell_type": "code",
   "execution_count": 92,
   "metadata": {},
   "outputs": [
    {
     "ename": "AttributeError",
     "evalue": "'XGBClassifier' object has no attribute 'load_model'",
     "output_type": "error",
     "traceback": [
      "\u001b[0;31m---------------------------------------------------------------------------\u001b[0m",
      "\u001b[0;31mAttributeError\u001b[0m                            Traceback (most recent call last)",
      "\u001b[0;32m<ipython-input-92-44a60cf46a49>\u001b[0m in \u001b[0;36m<module>\u001b[0;34m()\u001b[0m\n\u001b[0;32m----> 1\u001b[0;31m \u001b[0mxgb_clf\u001b[0m\u001b[0;34m.\u001b[0m\u001b[0mload_model\u001b[0m\u001b[0;34m(\u001b[0m\u001b[0;34m'xgb_trained.model'\u001b[0m\u001b[0;34m)\u001b[0m\u001b[0;34m\u001b[0m\u001b[0m\n\u001b[0m",
      "\u001b[0;31mAttributeError\u001b[0m: 'XGBClassifier' object has no attribute 'load_model'"
     ]
    }
   ],
   "source": [
    "xgb_clf.load_model('xgb_trained.model')"
   ]
  },
  {
   "cell_type": "code",
   "execution_count": 40,
   "metadata": {},
   "outputs": [],
   "source": [
    "pred = xgb_clf.predict(Xtest)"
   ]
  },
  {
   "cell_type": "code",
   "execution_count": null,
   "metadata": {},
   "outputs": [],
   "source": []
  },
  {
   "cell_type": "markdown",
   "metadata": {},
   "source": [
    "#### Evaluating the trained model"
   ]
  },
  {
   "cell_type": "code",
   "execution_count": 41,
   "metadata": {},
   "outputs": [],
   "source": [
    "from sklearn.metrics import mean_squared_error, r2_score\n",
    "Y = np.concatenate((Y1,Y2,Y3,Y4), axis=0)"
   ]
  },
  {
   "cell_type": "code",
   "execution_count": 42,
   "metadata": {},
   "outputs": [
    {
     "name": "stdout",
     "output_type": "stream",
     "text": [
      "0.000316820401206\n",
      "0.324885477489\n"
     ]
    }
   ],
   "source": [
    "print(mean_squared_error(Y,pred))\n",
    "print(r2_score(Y,pred))"
   ]
  },
  {
   "cell_type": "markdown",
   "metadata": {},
   "source": [
    "### Fetching the weights from feature selection"
   ]
  },
  {
   "cell_type": "code",
   "execution_count": 43,
   "metadata": {},
   "outputs": [],
   "source": [
    "weights = [0.47,0.42,0.35,0.31,0.29,0.21,0.19,0.12,0.08,0.08]"
   ]
  },
  {
   "cell_type": "markdown",
   "metadata": {},
   "source": [
    "### Calculating the pairwise distance"
   ]
  },
  {
   "cell_type": "code",
   "execution_count": 53,
   "metadata": {},
   "outputs": [],
   "source": [
    "from sklearn.neighbors import DistanceMetric\n",
    "dist = DistanceMetric.get_metric('wminkowski',p=2,w=weights)\n",
    "Dist_matrix = dist.pairwise(X[0:1000,:])"
   ]
  },
  {
   "cell_type": "code",
   "execution_count": 54,
   "metadata": {},
   "outputs": [
    {
     "data": {
      "text/plain": [
       "(1000, 1000)"
      ]
     },
     "execution_count": 54,
     "metadata": {},
     "output_type": "execute_result"
    }
   ],
   "source": [
    "Dist_matrix.shape"
   ]
  },
  {
   "cell_type": "markdown",
   "metadata": {},
   "source": [
    "### Clustering the data"
   ]
  },
  {
   "cell_type": "code",
   "execution_count": 59,
   "metadata": {},
   "outputs": [],
   "source": [
    "def dist_func(v1,v2):\n",
    "    return np.sqrt(np.sum(weights*(v1-v2)**2))"
   ]
  },
  {
   "cell_type": "code",
   "execution_count": 60,
   "metadata": {},
   "outputs": [],
   "source": [
    "from sklearn.cluster import DBSCAN"
   ]
  },
  {
   "cell_type": "code",
   "execution_count": 67,
   "metadata": {},
   "outputs": [],
   "source": [
    "db = DBSCAN(min_samples=20, eps=0.01, metric=dist_func).fit(X[0:10000,:])"
   ]
  },
  {
   "cell_type": "code",
   "execution_count": 74,
   "metadata": {},
   "outputs": [
    {
     "data": {
      "text/plain": [
       "16"
      ]
     },
     "execution_count": 74,
     "metadata": {},
     "output_type": "execute_result"
    }
   ],
   "source": [
    "n_clusters = len(set(db.labels_)) - (1 if -1 in db.labels_ else 0)\n",
    "n_clusters"
   ]
  },
  {
   "cell_type": "markdown",
   "metadata": {},
   "source": [
    "### Permutation Testing"
   ]
  },
  {
   "cell_type": "code",
   "execution_count": 78,
   "metadata": {},
   "outputs": [],
   "source": [
    "from sklearn.model_selection import permutation_test_score"
   ]
  },
  {
   "cell_type": "code",
   "execution_count": 111,
   "metadata": {},
   "outputs": [],
   "source": [
    "Xperm = np.concatenate((Xtest1,Xtest2,Xtest3,Xtest4), axis=0)"
   ]
  },
  {
   "cell_type": "code",
   "execution_count": 144,
   "metadata": {},
   "outputs": [],
   "source": [
    "from sklearn.svm import SVR\n",
    "from sklearn.model_selection import StratifiedKFold"
   ]
  },
  {
   "cell_type": "code",
   "execution_count": 145,
   "metadata": {},
   "outputs": [],
   "source": [
    "svr = SVR()\n",
    "cv = StratifiedKFold(2)"
   ]
  },
  {
   "cell_type": "code",
   "execution_count": 161,
   "metadata": {
    "collapsed": true
   },
   "outputs": [
    {
     "name": "stderr",
     "output_type": "stream",
     "text": [
      "[Parallel(n_jobs=8)]: Done  34 tasks      | elapsed:  6.4min\n"
     ]
    },
    {
     "ename": "KeyboardInterrupt",
     "evalue": "",
     "output_type": "error",
     "traceback": [
      "\u001b[0;31m---------------------------------------------------------------------------\u001b[0m",
      "\u001b[0;31mKeyboardInterrupt\u001b[0m                         Traceback (most recent call last)",
      "\u001b[0;32m<ipython-input-161-d2944a0464fd>\u001b[0m in \u001b[0;36m<module>\u001b[0;34m()\u001b[0m\n\u001b[1;32m      1\u001b[0m score, permutation_scores, pvalue = permutation_test_score(\n\u001b[0;32m----> 2\u001b[0;31m     svr, X[0:100000,:], Y[0:100000], cv=cv, n_permutations=100, n_jobs=8, verbose=1)\n\u001b[0m",
      "\u001b[0;32m~/CSE519-2017-111482304-111733554/env/lib/python3.4/site-packages/sklearn/model_selection/_validation.py\u001b[0m in \u001b[0;36mpermutation_test_score\u001b[0;34m(estimator, X, y, groups, cv, n_permutations, n_jobs, random_state, verbose, scoring)\u001b[0m\n\u001b[1;32m    881\u001b[0m             \u001b[0mclone\u001b[0m\u001b[0;34m(\u001b[0m\u001b[0mestimator\u001b[0m\u001b[0;34m)\u001b[0m\u001b[0;34m,\u001b[0m \u001b[0mX\u001b[0m\u001b[0;34m,\u001b[0m \u001b[0m_shuffle\u001b[0m\u001b[0;34m(\u001b[0m\u001b[0my\u001b[0m\u001b[0;34m,\u001b[0m \u001b[0mgroups\u001b[0m\u001b[0;34m,\u001b[0m \u001b[0mrandom_state\u001b[0m\u001b[0;34m)\u001b[0m\u001b[0;34m,\u001b[0m\u001b[0;34m\u001b[0m\u001b[0m\n\u001b[1;32m    882\u001b[0m             groups, cv, scorer)\n\u001b[0;32m--> 883\u001b[0;31m         for _ in range(n_permutations))\n\u001b[0m\u001b[1;32m    884\u001b[0m     \u001b[0mpermutation_scores\u001b[0m \u001b[0;34m=\u001b[0m \u001b[0mnp\u001b[0m\u001b[0;34m.\u001b[0m\u001b[0marray\u001b[0m\u001b[0;34m(\u001b[0m\u001b[0mpermutation_scores\u001b[0m\u001b[0;34m)\u001b[0m\u001b[0;34m\u001b[0m\u001b[0m\n\u001b[1;32m    885\u001b[0m     \u001b[0mpvalue\u001b[0m \u001b[0;34m=\u001b[0m \u001b[0;34m(\u001b[0m\u001b[0mnp\u001b[0m\u001b[0;34m.\u001b[0m\u001b[0msum\u001b[0m\u001b[0;34m(\u001b[0m\u001b[0mpermutation_scores\u001b[0m \u001b[0;34m>=\u001b[0m \u001b[0mscore\u001b[0m\u001b[0;34m)\u001b[0m \u001b[0;34m+\u001b[0m \u001b[0;36m1.0\u001b[0m\u001b[0;34m)\u001b[0m \u001b[0;34m/\u001b[0m \u001b[0;34m(\u001b[0m\u001b[0mn_permutations\u001b[0m \u001b[0;34m+\u001b[0m \u001b[0;36m1\u001b[0m\u001b[0;34m)\u001b[0m\u001b[0;34m\u001b[0m\u001b[0m\n",
      "\u001b[0;32m~/CSE519-2017-111482304-111733554/env/lib/python3.4/site-packages/sklearn/externals/joblib/parallel.py\u001b[0m in \u001b[0;36m__call__\u001b[0;34m(self, iterable)\u001b[0m\n\u001b[1;32m    787\u001b[0m                 \u001b[0;31m# consumption.\u001b[0m\u001b[0;34m\u001b[0m\u001b[0;34m\u001b[0m\u001b[0m\n\u001b[1;32m    788\u001b[0m                 \u001b[0mself\u001b[0m\u001b[0;34m.\u001b[0m\u001b[0m_iterating\u001b[0m \u001b[0;34m=\u001b[0m \u001b[0;32mFalse\u001b[0m\u001b[0;34m\u001b[0m\u001b[0m\n\u001b[0;32m--> 789\u001b[0;31m             \u001b[0mself\u001b[0m\u001b[0;34m.\u001b[0m\u001b[0mretrieve\u001b[0m\u001b[0;34m(\u001b[0m\u001b[0;34m)\u001b[0m\u001b[0;34m\u001b[0m\u001b[0m\n\u001b[0m\u001b[1;32m    790\u001b[0m             \u001b[0;31m# Make sure that we get a last message telling us we are done\u001b[0m\u001b[0;34m\u001b[0m\u001b[0;34m\u001b[0m\u001b[0m\n\u001b[1;32m    791\u001b[0m             \u001b[0melapsed_time\u001b[0m \u001b[0;34m=\u001b[0m \u001b[0mtime\u001b[0m\u001b[0;34m.\u001b[0m\u001b[0mtime\u001b[0m\u001b[0;34m(\u001b[0m\u001b[0;34m)\u001b[0m \u001b[0;34m-\u001b[0m \u001b[0mself\u001b[0m\u001b[0;34m.\u001b[0m\u001b[0m_start_time\u001b[0m\u001b[0;34m\u001b[0m\u001b[0m\n",
      "\u001b[0;32m~/CSE519-2017-111482304-111733554/env/lib/python3.4/site-packages/sklearn/externals/joblib/parallel.py\u001b[0m in \u001b[0;36mretrieve\u001b[0;34m(self)\u001b[0m\n\u001b[1;32m    697\u001b[0m             \u001b[0;32mtry\u001b[0m\u001b[0;34m:\u001b[0m\u001b[0;34m\u001b[0m\u001b[0m\n\u001b[1;32m    698\u001b[0m                 \u001b[0;32mif\u001b[0m \u001b[0mgetattr\u001b[0m\u001b[0;34m(\u001b[0m\u001b[0mself\u001b[0m\u001b[0;34m.\u001b[0m\u001b[0m_backend\u001b[0m\u001b[0;34m,\u001b[0m \u001b[0;34m'supports_timeout'\u001b[0m\u001b[0;34m,\u001b[0m \u001b[0;32mFalse\u001b[0m\u001b[0;34m)\u001b[0m\u001b[0;34m:\u001b[0m\u001b[0;34m\u001b[0m\u001b[0m\n\u001b[0;32m--> 699\u001b[0;31m                     \u001b[0mself\u001b[0m\u001b[0;34m.\u001b[0m\u001b[0m_output\u001b[0m\u001b[0;34m.\u001b[0m\u001b[0mextend\u001b[0m\u001b[0;34m(\u001b[0m\u001b[0mjob\u001b[0m\u001b[0;34m.\u001b[0m\u001b[0mget\u001b[0m\u001b[0;34m(\u001b[0m\u001b[0mtimeout\u001b[0m\u001b[0;34m=\u001b[0m\u001b[0mself\u001b[0m\u001b[0;34m.\u001b[0m\u001b[0mtimeout\u001b[0m\u001b[0;34m)\u001b[0m\u001b[0;34m)\u001b[0m\u001b[0;34m\u001b[0m\u001b[0m\n\u001b[0m\u001b[1;32m    700\u001b[0m                 \u001b[0;32melse\u001b[0m\u001b[0;34m:\u001b[0m\u001b[0;34m\u001b[0m\u001b[0m\n\u001b[1;32m    701\u001b[0m                     \u001b[0mself\u001b[0m\u001b[0;34m.\u001b[0m\u001b[0m_output\u001b[0m\u001b[0;34m.\u001b[0m\u001b[0mextend\u001b[0m\u001b[0;34m(\u001b[0m\u001b[0mjob\u001b[0m\u001b[0;34m.\u001b[0m\u001b[0mget\u001b[0m\u001b[0;34m(\u001b[0m\u001b[0;34m)\u001b[0m\u001b[0;34m)\u001b[0m\u001b[0;34m\u001b[0m\u001b[0m\n",
      "\u001b[0;32m/usr/lib/python3.4/multiprocessing/pool.py\u001b[0m in \u001b[0;36mget\u001b[0;34m(self, timeout)\u001b[0m\n\u001b[1;32m    591\u001b[0m \u001b[0;34m\u001b[0m\u001b[0m\n\u001b[1;32m    592\u001b[0m     \u001b[0;32mdef\u001b[0m \u001b[0mget\u001b[0m\u001b[0;34m(\u001b[0m\u001b[0mself\u001b[0m\u001b[0;34m,\u001b[0m \u001b[0mtimeout\u001b[0m\u001b[0;34m=\u001b[0m\u001b[0;32mNone\u001b[0m\u001b[0;34m)\u001b[0m\u001b[0;34m:\u001b[0m\u001b[0;34m\u001b[0m\u001b[0m\n\u001b[0;32m--> 593\u001b[0;31m         \u001b[0mself\u001b[0m\u001b[0;34m.\u001b[0m\u001b[0mwait\u001b[0m\u001b[0;34m(\u001b[0m\u001b[0mtimeout\u001b[0m\u001b[0;34m)\u001b[0m\u001b[0;34m\u001b[0m\u001b[0m\n\u001b[0m\u001b[1;32m    594\u001b[0m         \u001b[0;32mif\u001b[0m \u001b[0;32mnot\u001b[0m \u001b[0mself\u001b[0m\u001b[0;34m.\u001b[0m\u001b[0mready\u001b[0m\u001b[0;34m(\u001b[0m\u001b[0;34m)\u001b[0m\u001b[0;34m:\u001b[0m\u001b[0;34m\u001b[0m\u001b[0m\n\u001b[1;32m    595\u001b[0m             \u001b[0;32mraise\u001b[0m \u001b[0mTimeoutError\u001b[0m\u001b[0;34m\u001b[0m\u001b[0m\n",
      "\u001b[0;32m/usr/lib/python3.4/multiprocessing/pool.py\u001b[0m in \u001b[0;36mwait\u001b[0;34m(self, timeout)\u001b[0m\n\u001b[1;32m    588\u001b[0m \u001b[0;34m\u001b[0m\u001b[0m\n\u001b[1;32m    589\u001b[0m     \u001b[0;32mdef\u001b[0m \u001b[0mwait\u001b[0m\u001b[0;34m(\u001b[0m\u001b[0mself\u001b[0m\u001b[0;34m,\u001b[0m \u001b[0mtimeout\u001b[0m\u001b[0;34m=\u001b[0m\u001b[0;32mNone\u001b[0m\u001b[0;34m)\u001b[0m\u001b[0;34m:\u001b[0m\u001b[0;34m\u001b[0m\u001b[0m\n\u001b[0;32m--> 590\u001b[0;31m         \u001b[0mself\u001b[0m\u001b[0;34m.\u001b[0m\u001b[0m_event\u001b[0m\u001b[0;34m.\u001b[0m\u001b[0mwait\u001b[0m\u001b[0;34m(\u001b[0m\u001b[0mtimeout\u001b[0m\u001b[0;34m)\u001b[0m\u001b[0;34m\u001b[0m\u001b[0m\n\u001b[0m\u001b[1;32m    591\u001b[0m \u001b[0;34m\u001b[0m\u001b[0m\n\u001b[1;32m    592\u001b[0m     \u001b[0;32mdef\u001b[0m \u001b[0mget\u001b[0m\u001b[0;34m(\u001b[0m\u001b[0mself\u001b[0m\u001b[0;34m,\u001b[0m \u001b[0mtimeout\u001b[0m\u001b[0;34m=\u001b[0m\u001b[0;32mNone\u001b[0m\u001b[0;34m)\u001b[0m\u001b[0;34m:\u001b[0m\u001b[0;34m\u001b[0m\u001b[0m\n",
      "\u001b[0;32m/usr/lib/python3.4/threading.py\u001b[0m in \u001b[0;36mwait\u001b[0;34m(self, timeout)\u001b[0m\n\u001b[1;32m    551\u001b[0m             \u001b[0msignaled\u001b[0m \u001b[0;34m=\u001b[0m \u001b[0mself\u001b[0m\u001b[0;34m.\u001b[0m\u001b[0m_flag\u001b[0m\u001b[0;34m\u001b[0m\u001b[0m\n\u001b[1;32m    552\u001b[0m             \u001b[0;32mif\u001b[0m \u001b[0;32mnot\u001b[0m \u001b[0msignaled\u001b[0m\u001b[0;34m:\u001b[0m\u001b[0;34m\u001b[0m\u001b[0m\n\u001b[0;32m--> 553\u001b[0;31m                 \u001b[0msignaled\u001b[0m \u001b[0;34m=\u001b[0m \u001b[0mself\u001b[0m\u001b[0;34m.\u001b[0m\u001b[0m_cond\u001b[0m\u001b[0;34m.\u001b[0m\u001b[0mwait\u001b[0m\u001b[0;34m(\u001b[0m\u001b[0mtimeout\u001b[0m\u001b[0;34m)\u001b[0m\u001b[0;34m\u001b[0m\u001b[0m\n\u001b[0m\u001b[1;32m    554\u001b[0m             \u001b[0;32mreturn\u001b[0m \u001b[0msignaled\u001b[0m\u001b[0;34m\u001b[0m\u001b[0m\n\u001b[1;32m    555\u001b[0m         \u001b[0;32mfinally\u001b[0m\u001b[0;34m:\u001b[0m\u001b[0;34m\u001b[0m\u001b[0m\n",
      "\u001b[0;32m/usr/lib/python3.4/threading.py\u001b[0m in \u001b[0;36mwait\u001b[0;34m(self, timeout)\u001b[0m\n\u001b[1;32m    288\u001b[0m         \u001b[0;32mtry\u001b[0m\u001b[0;34m:\u001b[0m    \u001b[0;31m# restore state no matter what (e.g., KeyboardInterrupt)\u001b[0m\u001b[0;34m\u001b[0m\u001b[0m\n\u001b[1;32m    289\u001b[0m             \u001b[0;32mif\u001b[0m \u001b[0mtimeout\u001b[0m \u001b[0;32mis\u001b[0m \u001b[0;32mNone\u001b[0m\u001b[0;34m:\u001b[0m\u001b[0;34m\u001b[0m\u001b[0m\n\u001b[0;32m--> 290\u001b[0;31m                 \u001b[0mwaiter\u001b[0m\u001b[0;34m.\u001b[0m\u001b[0macquire\u001b[0m\u001b[0;34m(\u001b[0m\u001b[0;34m)\u001b[0m\u001b[0;34m\u001b[0m\u001b[0m\n\u001b[0m\u001b[1;32m    291\u001b[0m                 \u001b[0mgotit\u001b[0m \u001b[0;34m=\u001b[0m \u001b[0;32mTrue\u001b[0m\u001b[0;34m\u001b[0m\u001b[0m\n\u001b[1;32m    292\u001b[0m             \u001b[0;32melse\u001b[0m\u001b[0;34m:\u001b[0m\u001b[0;34m\u001b[0m\u001b[0m\n",
      "\u001b[0;31mKeyboardInterrupt\u001b[0m: "
     ]
    }
   ],
   "source": [
    "score, permutation_scores, pvalue = permutation_test_score(\n",
    "    svr, X[0:100000,:], Y[0:100000], cv=cv, n_permutations=100, n_jobs=8, verbose=1)"
   ]
  },
  {
   "cell_type": "code",
   "execution_count": 157,
   "metadata": {},
   "outputs": [
    {
     "name": "stdout",
     "output_type": "stream",
     "text": [
      "Classification score -2.05029617911 (pvalue : 0.00990099009901)\n"
     ]
    }
   ],
   "source": [
    "print(\"Classification score %s (pvalue : %s)\" % (score, pvalue))"
   ]
  },
  {
   "cell_type": "code",
   "execution_count": 158,
   "metadata": {},
   "outputs": [],
   "source": [
    "import matplotlib.pyplot as plt"
   ]
  },
  {
   "cell_type": "code",
   "execution_count": 159,
   "metadata": {},
   "outputs": [],
   "source": [
    "n_classes = np.unique(Y).size"
   ]
  },
  {
   "cell_type": "code",
   "execution_count": 160,
   "metadata": {},
   "outputs": [
    {
     "data": {
      "image/png": "[encoded data removed]",
      "text/plain": [
       "<matplotlib.figure.Figure at 0x7fe293608550>"
      ]
     },
     "metadata": {},
     "output_type": "display_data"
    }
   ],
   "source": [
    "plt.hist(permutation_scores, 20, label='Permutation scores',\n",
    "         edgecolor='black')\n",
    "ylim = plt.ylim()\n",
    "# BUG: vlines(..., linestyle='--') fails on older versions of matplotlib\n",
    "# plt.vlines(score, ylim[0], ylim[1], linestyle='--',\n",
    "#          color='g', linewidth=3, label='Classification Score'\n",
    "#          ' (pvalue %s)' % pvalue)\n",
    "# plt.vlines(1.0 / n_classes, ylim[0], ylim[1], linestyle='--',\n",
    "#          color='k', linewidth=3, label='Luck')\n",
    "plt.plot(2 * [score], ylim, '--g', linewidth=3,\n",
    "         label='Classification Score'\n",
    "         ' (pvalue %s)' % pvalue)\n",
    "plt.plot(2 * [1. / n_classes], ylim, '--k', linewidth=3, label='Luck')\n",
    "\n",
    "plt.ylim(ylim)\n",
    "plt.legend()\n",
    "plt.xlabel('Score')\n",
    "plt.show()"
   ]
  },
  {
   "cell_type": "code",
   "execution_count": 155,
   "metadata": {},
   "outputs": [
    {
     "data": {
      "text/plain": [
       "(303776,)"
      ]
     },
     "execution_count": 155,
     "metadata": {},
     "output_type": "execute_result"
    }
   ],
   "source": [
    "Y.shape"
   ]
  },
  {
   "cell_type": "code",
   "execution_count": null,
   "metadata": {},
   "outputs": [],
   "source": []
  }
 ],
 "metadata": {
  "kernelspec": {
   "display_name": "Python 3",
   "language": "python",
   "name": "python3"
  },
  "language_info": {
   "codemirror_mode": {
    "name": "ipython",
    "version": 3
   },
   "file_extension": ".py",
   "mimetype": "text/x-python",
   "name": "python",
   "nbconvert_exporter": "python",
   "pygments_lexer": "ipython3",
   "version": "3.4.3"
  }
 },
 "nbformat": 4,
 "nbformat_minor": 2
}
