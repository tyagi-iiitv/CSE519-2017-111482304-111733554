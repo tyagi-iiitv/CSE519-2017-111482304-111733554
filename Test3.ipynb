{
 "cells": [
  {
   "cell_type": "code",
   "execution_count": 1,
   "metadata": {
    "collapsed": true
   },
   "outputs": [],
   "source": [
    "import pandas as pd\n",
    "import numpy as np"
   ]
  },
  {
   "cell_type": "code",
   "execution_count": 2,
   "metadata": {
    "collapsed": true
   },
   "outputs": [],
   "source": [
    "prop = pd.read_csv('properties_2017.csv', usecols=['parcelid',\n",
    "                                                        'latitude',\n",
    "                                                        'longitude',\n",
    "                                                         ])\n",
    "crime = pd.read_csv('crime.csv', usecols=['Location ',])"
   ]
  },
  {
   "cell_type": "code",
   "execution_count": 3,
   "metadata": {
    "collapsed": true
   },
   "outputs": [],
   "source": [
    "geo_crime = crime['Location '].str.strip('()').str.split(', ', expand=True).rename(columns={0:'Latitude', 1:'Longitude'})\n",
    "geo_crime.columns = ['Latitude','Longitude']\n",
    "geo_crime = geo_crime.apply(pd.to_numeric)\n",
    "geo_crime = geo_crime.dropna()"
   ]
  },
  {
   "cell_type": "code",
   "execution_count": 4,
   "metadata": {
    "collapsed": true
   },
   "outputs": [],
   "source": [
    "lat_max = geo_crime.loc[geo_crime['Latitude'].idxmax()]['Latitude']\n",
    "lat_min = geo_crime.loc[geo_crime['Latitude'].idxmin()]['Latitude']\n",
    "lon_max = geo_crime.loc[geo_crime['Longitude'].idxmax()]['Longitude']\n",
    "lon_min = geo_crime.loc[geo_crime['Longitude'].idxmin()]['Longitude']"
   ]
  },
  {
   "cell_type": "code",
   "execution_count": 5,
   "metadata": {
    "collapsed": true
   },
   "outputs": [],
   "source": [
    "# We want to devide the whole area into 10000 blocks where each block include around 160 coordinates of (lat,lan).\n",
    "# Number of coordinates in government crime dataset : 1600000\n",
    "\n",
    "offset_lat = (lat_max - lat_min) / 100\n",
    "offset_lon = (lon_max - lon_min) / 100\n",
    "Blocks = pd.DataFrame(columns=['latitude_start','latitude_end','longitude_start','longitude_end','rate'])\n"
   ]
  },
  {
   "cell_type": "code",
   "execution_count": 6,
   "metadata": {
    "collapsed": true
   },
   "outputs": [],
   "source": [
    "lat = pd.DataFrame({'A': np.linspace(lat_min, lat_max, 100)})\n",
    "lon = pd.DataFrame({'B': np.linspace(lon_min, lon_max, 100)})\n",
    "lat.columns = ['lat']\n",
    "lon.columns = ['lon']\n",
    "rate = np.zeros((100,100))"
   ]
  },
  {
   "cell_type": "code",
   "execution_count": 7,
   "metadata": {
    "collapsed": true
   },
   "outputs": [],
   "source": [
    "for index, row in geo_crime.iterrows():\n",
    "    a = row['Latitude']\n",
    "    b = row['Longitude']\n",
    "    for i in range(1,100):\n",
    "        if lat.loc[i-1,'lat'] <= a and a <= lat.loc[i,'lat']:\n",
    "            for j in range(1,100):\n",
    "                if lon.loc[j-1,'lon'] <= b and b <= lon.loc[j,'lon']:\n",
    "                    rate[i,j] = rate[i,j]  + 1\n",
    "                    break"
   ]
  },
  {
   "cell_type": "code",
   "execution_count": 11,
   "metadata": {},
   "outputs": [
    {
     "data": {
      "text/plain": [
       "1602888.0"
      ]
     },
     "execution_count": 11,
     "metadata": {},
     "output_type": "execute_result"
    }
   ],
   "source": [
    "rate.sum()"
   ]
  },
  {
   "cell_type": "code",
   "execution_count": 12,
   "metadata": {
    "collapsed": true
   },
   "outputs": [],
   "source": [
    "prop = prop.dropna()\n",
    "prop['latitude'] = prop['latitude'] / 1000000\n",
    "prop['longitude'] = prop['longitude'] / 1000000\n",
    "prop['rate'] = 0"
   ]
  },
  {
   "cell_type": "code",
   "execution_count": 15,
   "metadata": {
    "collapsed": true
   },
   "outputs": [],
   "source": [
    "count = 0\n",
    "for index, row in prop.iterrows():\n",
    "    a = row['latitude']\n",
    "    b = row['longitude']\n",
    "    for i in range(1,10):\n",
    "        if lat.loc[i-1,'lat'] < a and a < lat.loc[i,'lat']:\n",
    "            for j in range(1,10):\n",
    "                if lon.loc[j-1,'lon'] < b and b < lon.loc[j,'lon']:\n",
    "                    row['rate'] = rate[i,j]\n",
    "                    count = count + 1\n",
    "                    break"
   ]
  },
  {
   "cell_type": "code",
   "execution_count": 18,
   "metadata": {},
   "outputs": [
    {
     "data": {
      "text/plain": [
       "0"
      ]
     },
     "execution_count": 18,
     "metadata": {},
     "output_type": "execute_result"
    }
   ],
   "source": [
    "prop['rate'].sum()\n",
    "count"
   ]
  },
  {
   "cell_type": "code",
   "execution_count": 22,
   "metadata": {},
   "outputs": [
    {
     "name": "stdout",
     "output_type": "stream",
     "text": [
      "          lat\n",
      "95  33.385015\n",
      "96  33.736436\n",
      "97  34.087858\n",
      "98  34.439279\n",
      "99  34.790700\n",
      "   parcelid   latitude   longitude  rate\n",
      "0  10754147  34.144442 -118.654084     0\n",
      "1  10759547  34.140430 -118.625364     0\n",
      "2  10843547  33.989359 -118.394633     0\n",
      "3  10859147  34.148863 -118.437206     0\n",
      "4  10879947  34.194168 -118.385816     0\n"
     ]
    }
   ],
   "source": [
    "print(lat.tail(5))\n",
    "print(prop.head(5))"
   ]
  },
  {
   "cell_type": "code",
   "execution_count": 87,
   "metadata": {
    "collapsed": true
   },
   "outputs": [],
   "source": [
    "# lat = lat_min\n",
    "# lon = lon_min\n",
    "\n",
    "# Blocks.loc[index] = pd.Series({'latitude_start':lat, 'latitude_end': (lat + offset_lat), 'longitude_start':lon, 'longitude_end':(lon + offset_lon)})\n",
    "\n",
    "# for i in range(100):\n",
    "#     lat += offset_lat\n",
    "#     for j in range(100):\n",
    "#         lon += offset_lon\n",
    "#         Blocks.loc[index+1,'latitude_end'] = lat\n",
    "#         Blocks.loc[index+1,'longitude_end'] = lon\n",
    "#         Blocks.loc[index+1,'latitude_start'] = Blocks.loc[index ,'latitude_end'] + 0.001\n",
    "#         Blocks.loc[index+1,'longitude_start'] =  Blocks.loc[index ,'longitude_end'] + 0.001\n",
    "#         index += 1"
   ]
  },
  {
   "cell_type": "code",
   "execution_count": null,
   "metadata": {
    "collapsed": true
   },
   "outputs": [],
   "source": []
  }
 ],
 "metadata": {
  "kernelspec": {
   "display_name": "Python 3",
   "language": "python",
   "name": "python3"
  },
  "language_info": {
   "codemirror_mode": {
    "name": "ipython",
    "version": 3
   },
   "file_extension": ".py",
   "mimetype": "text/x-python",
   "name": "python",
   "nbconvert_exporter": "python",
   "pygments_lexer": "ipython3",
   "version": "3.6.1"
  }
 },
 "nbformat": 4,
 "nbformat_minor": 2
}
